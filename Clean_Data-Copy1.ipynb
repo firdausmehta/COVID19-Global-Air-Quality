{
 "cells": [
  {
   "cell_type": "markdown",
   "metadata": {},
   "source": [
    "# Data Exploration and Cleanup"
   ]
  },
  {
   "cell_type": "code",
   "execution_count": 2,
   "metadata": {},
   "outputs": [],
   "source": [
    "# Dependencies and Setup\n",
    "import matplotlib.pyplot as plt\n",
    "import pandas as pd\n",
    "import numpy as np\n",
    "import requests\n",
    "import json\n",
    "import seaborn as sns\n",
    "import os\n",
    "import datetime\n",
    "from pprint import pprint\n",
    "import plotly.express as px\n",
    "import warnings\n",
    "warnings.filterwarnings(\"ignore\")\n"
   ]
  },
  {
   "cell_type": "code",
   "execution_count": 3,
   "metadata": {},
   "outputs": [],
   "source": [
    "parent_folder = 'historical_data'\n",
    "csv_list = [f for f in os.listdir(parent_folder) if '.csv' in f]\n",
    "df_list = []\n",
    "for csv in csv_list:\n",
    "    df = pd.read_csv(os.path.join(parent_folder, csv))\n",
    "    df_list.append(df)\n",
    "master_df = pd.concat(df_list, ignore_index=True)"
   ]
  },
  {
   "cell_type": "code",
   "execution_count": 4,
   "metadata": {},
   "outputs": [
    {
     "data": {
      "text/html": [
       "<div>\n",
       "<style scoped>\n",
       "    .dataframe tbody tr th:only-of-type {\n",
       "        vertical-align: middle;\n",
       "    }\n",
       "\n",
       "    .dataframe tbody tr th {\n",
       "        vertical-align: top;\n",
       "    }\n",
       "\n",
       "    .dataframe thead th {\n",
       "        text-align: right;\n",
       "    }\n",
       "</style>\n",
       "<table border=\"1\" class=\"dataframe\">\n",
       "  <thead>\n",
       "    <tr style=\"text-align: right;\">\n",
       "      <th></th>\n",
       "      <th>Date</th>\n",
       "      <th>Country</th>\n",
       "      <th>City</th>\n",
       "      <th>Specie</th>\n",
       "      <th>count</th>\n",
       "      <th>min</th>\n",
       "      <th>max</th>\n",
       "      <th>median</th>\n",
       "      <th>variance</th>\n",
       "    </tr>\n",
       "  </thead>\n",
       "  <tbody>\n",
       "    <tr>\n",
       "      <th>0</th>\n",
       "      <td>6/01/2015</td>\n",
       "      <td>KR</td>\n",
       "      <td>Jeonju</td>\n",
       "      <td>co</td>\n",
       "      <td>124</td>\n",
       "      <td>0.1</td>\n",
       "      <td>12.3</td>\n",
       "      <td>4.5</td>\n",
       "      <td>55.74</td>\n",
       "    </tr>\n",
       "    <tr>\n",
       "      <th>1</th>\n",
       "      <td>22/01/2015</td>\n",
       "      <td>KR</td>\n",
       "      <td>Jeonju</td>\n",
       "      <td>co</td>\n",
       "      <td>116</td>\n",
       "      <td>4.5</td>\n",
       "      <td>10.0</td>\n",
       "      <td>6.7</td>\n",
       "      <td>16.09</td>\n",
       "    </tr>\n",
       "    <tr>\n",
       "      <th>2</th>\n",
       "      <td>30/03/2015</td>\n",
       "      <td>KR</td>\n",
       "      <td>Jeonju</td>\n",
       "      <td>co</td>\n",
       "      <td>118</td>\n",
       "      <td>1.2</td>\n",
       "      <td>11.2</td>\n",
       "      <td>5.6</td>\n",
       "      <td>35.98</td>\n",
       "    </tr>\n",
       "    <tr>\n",
       "      <th>3</th>\n",
       "      <td>27/05/2015</td>\n",
       "      <td>KR</td>\n",
       "      <td>Jeonju</td>\n",
       "      <td>co</td>\n",
       "      <td>93</td>\n",
       "      <td>2.3</td>\n",
       "      <td>5.6</td>\n",
       "      <td>3.4</td>\n",
       "      <td>6.54</td>\n",
       "    </tr>\n",
       "    <tr>\n",
       "      <th>4</th>\n",
       "      <td>3/02/2015</td>\n",
       "      <td>KR</td>\n",
       "      <td>Jeonju</td>\n",
       "      <td>co</td>\n",
       "      <td>133</td>\n",
       "      <td>4.5</td>\n",
       "      <td>13.4</td>\n",
       "      <td>7.8</td>\n",
       "      <td>39.24</td>\n",
       "    </tr>\n",
       "  </tbody>\n",
       "</table>\n",
       "</div>"
      ],
      "text/plain": [
       "         Date Country    City Specie  count  min   max  median  variance\n",
       "0   6/01/2015      KR  Jeonju     co    124  0.1  12.3     4.5     55.74\n",
       "1  22/01/2015      KR  Jeonju     co    116  4.5  10.0     6.7     16.09\n",
       "2  30/03/2015      KR  Jeonju     co    118  1.2  11.2     5.6     35.98\n",
       "3  27/05/2015      KR  Jeonju     co     93  2.3   5.6     3.4      6.54\n",
       "4   3/02/2015      KR  Jeonju     co    133  4.5  13.4     7.8     39.24"
      ]
     },
     "execution_count": 4,
     "metadata": {},
     "output_type": "execute_result"
    }
   ],
   "source": [
    "master_df.head()"
   ]
  },
  {
   "cell_type": "markdown",
   "metadata": {},
   "source": [
    "# * Data taken from kaggle.\n",
    "https://www.kaggle.com/imdevskp/corona-virus-report"
   ]
  },
  {
   "cell_type": "code",
   "execution_count": 27,
   "metadata": {
    "scrolled": true
   },
   "outputs": [
    {
     "data": {
      "text/html": [
       "<div>\n",
       "<style scoped>\n",
       "    .dataframe tbody tr th:only-of-type {\n",
       "        vertical-align: middle;\n",
       "    }\n",
       "\n",
       "    .dataframe tbody tr th {\n",
       "        vertical-align: top;\n",
       "    }\n",
       "\n",
       "    .dataframe thead th {\n",
       "        text-align: right;\n",
       "    }\n",
       "</style>\n",
       "<table border=\"1\" class=\"dataframe\">\n",
       "  <thead>\n",
       "    <tr style=\"text-align: right;\">\n",
       "      <th></th>\n",
       "      <th>Country</th>\n",
       "      <th>Date</th>\n",
       "      <th>Confirmed</th>\n",
       "      <th>Deaths</th>\n",
       "      <th>Recovered</th>\n",
       "      <th>Active</th>\n",
       "      <th>WHO Region</th>\n",
       "    </tr>\n",
       "  </thead>\n",
       "  <tbody>\n",
       "    <tr>\n",
       "      <th>0</th>\n",
       "      <td>Afghanistan</td>\n",
       "      <td>22/01/2020</td>\n",
       "      <td>0</td>\n",
       "      <td>0</td>\n",
       "      <td>0</td>\n",
       "      <td>0</td>\n",
       "      <td>Eastern Mediterranean</td>\n",
       "    </tr>\n",
       "    <tr>\n",
       "      <th>1</th>\n",
       "      <td>Albania</td>\n",
       "      <td>22/01/2020</td>\n",
       "      <td>0</td>\n",
       "      <td>0</td>\n",
       "      <td>0</td>\n",
       "      <td>0</td>\n",
       "      <td>Europe</td>\n",
       "    </tr>\n",
       "    <tr>\n",
       "      <th>2</th>\n",
       "      <td>Algeria</td>\n",
       "      <td>22/01/2020</td>\n",
       "      <td>0</td>\n",
       "      <td>0</td>\n",
       "      <td>0</td>\n",
       "      <td>0</td>\n",
       "      <td>Africa</td>\n",
       "    </tr>\n",
       "    <tr>\n",
       "      <th>3</th>\n",
       "      <td>Andorra</td>\n",
       "      <td>22/01/2020</td>\n",
       "      <td>0</td>\n",
       "      <td>0</td>\n",
       "      <td>0</td>\n",
       "      <td>0</td>\n",
       "      <td>Europe</td>\n",
       "    </tr>\n",
       "    <tr>\n",
       "      <th>4</th>\n",
       "      <td>Angola</td>\n",
       "      <td>22/01/2020</td>\n",
       "      <td>0</td>\n",
       "      <td>0</td>\n",
       "      <td>0</td>\n",
       "      <td>0</td>\n",
       "      <td>Africa</td>\n",
       "    </tr>\n",
       "  </tbody>\n",
       "</table>\n",
       "</div>"
      ],
      "text/plain": [
       "       Country        Date  Confirmed  Deaths  Recovered  Active  \\\n",
       "0  Afghanistan  22/01/2020          0       0          0       0   \n",
       "1      Albania  22/01/2020          0       0          0       0   \n",
       "2      Algeria  22/01/2020          0       0          0       0   \n",
       "3      Andorra  22/01/2020          0       0          0       0   \n",
       "4       Angola  22/01/2020          0       0          0       0   \n",
       "\n",
       "              WHO Region  \n",
       "0  Eastern Mediterranean  \n",
       "1                 Europe  \n",
       "2                 Africa  \n",
       "3                 Europe  \n",
       "4                 Africa  "
      ]
     },
     "execution_count": 27,
     "metadata": {},
     "output_type": "execute_result"
    }
   ],
   "source": [
    "# Read in Covid Data\n",
    "covid_df = pd.read_csv('covid_19_clean_complete.csv', parse_dates=['Date'])\n",
    "# Replace NaN values by 0\n",
    "covid_df.fillna(0, inplace=True)\n",
    "# Remove columns\n",
    "covid_df = covid_df.drop(['Lat','Long','Province/State'], axis=1)\n",
    "# Rename the columns so that they make sense\n",
    "covid_df.rename (columns = {'Country/Region':'Country'}, inplace = True)\n",
    "#change date time format\n",
    "covid_df['Date'] = covid_df['Date'].dt.strftime(('%d/%m/%Y'))\n",
    "#print(covid_df.shape)\n",
    "covid_df.head()\n"
   ]
  },
  {
   "cell_type": "code",
   "execution_count": 26,
   "metadata": {},
   "outputs": [
    {
     "name": "stdout",
     "output_type": "stream",
     "text": [
      "(49068, 8)\n"
     ]
    },
    {
     "data": {
      "text/html": [
       "<div>\n",
       "<style scoped>\n",
       "    .dataframe tbody tr th:only-of-type {\n",
       "        vertical-align: middle;\n",
       "    }\n",
       "\n",
       "    .dataframe tbody tr th {\n",
       "        vertical-align: top;\n",
       "    }\n",
       "\n",
       "    .dataframe thead th {\n",
       "        text-align: right;\n",
       "    }\n",
       "</style>\n",
       "<table border=\"1\" class=\"dataframe\">\n",
       "  <thead>\n",
       "    <tr style=\"text-align: right;\">\n",
       "      <th></th>\n",
       "      <th>Country</th>\n",
       "      <th>Confirmed</th>\n",
       "      <th>active</th>\n",
       "      <th>Deaths</th>\n",
       "    </tr>\n",
       "  </thead>\n",
       "  <tbody>\n",
       "    <tr>\n",
       "      <th>0</th>\n",
       "      <td>Afghanistan</td>\n",
       "      <td>15205</td>\n",
       "      <td>13620</td>\n",
       "      <td>257</td>\n",
       "    </tr>\n",
       "    <tr>\n",
       "      <th>1</th>\n",
       "      <td>Albania</td>\n",
       "      <td>1137</td>\n",
       "      <td>232</td>\n",
       "      <td>33</td>\n",
       "    </tr>\n",
       "    <tr>\n",
       "      <th>2</th>\n",
       "      <td>Algeria</td>\n",
       "      <td>9394</td>\n",
       "      <td>2993</td>\n",
       "      <td>653</td>\n",
       "    </tr>\n",
       "    <tr>\n",
       "      <th>3</th>\n",
       "      <td>Andorra</td>\n",
       "      <td>764</td>\n",
       "      <td>19</td>\n",
       "      <td>51</td>\n",
       "    </tr>\n",
       "    <tr>\n",
       "      <th>4</th>\n",
       "      <td>Angola</td>\n",
       "      <td>86</td>\n",
       "      <td>64</td>\n",
       "      <td>4</td>\n",
       "    </tr>\n",
       "  </tbody>\n",
       "</table>\n",
       "</div>"
      ],
      "text/plain": [
       "       Country  Confirmed  active  Deaths\n",
       "0  Afghanistan      15205   13620     257\n",
       "1      Albania       1137     232      33\n",
       "2      Algeria       9394    2993     653\n",
       "3      Andorra        764      19      51\n",
       "4       Angola         86      64       4"
      ]
     },
     "execution_count": 26,
     "metadata": {},
     "output_type": "execute_result"
    }
   ],
   "source": [
    "#Find current active cases\n",
    "covid_df['active'] = covid_df['Confirmed'] - covid_df['Deaths'] - covid_df['Recovered']\n",
    "top = covid_df[covid_df['Date'] == covid_df['Date'].max()]\n",
    "\n",
    "# Group datas by Countryworld = top.groupby('Country')['Confirmed','active','Deaths'].sum()\n",
    "world = top.groupby('Country')['Confirmed','active','Deaths'].sum().reset_index()\n",
    "\n",
    "#Dispaly first five countries\n",
    "print(covid_df.shape)\n",
    "world.head()"
   ]
  },
  {
   "cell_type": "code",
   "execution_count": 28,
   "metadata": {
    "scrolled": true
   },
   "outputs": [
    {
     "data": {
      "application/vnd.plotly.v1+json": {
       "config": {
        "plotlyServerURL": "https://plot.ly"
       },
       "data": [
        {
         "coloraxis": "coloraxis",
         "geo": "geo",
         "hovertemplate": "<b>%{hovertext}</b><br><br>Country=%{location}<br>active=%{z}<extra></extra>",
         "hovertext": [
          "Afghanistan",
          "Albania",
          "Algeria",
          "Andorra",
          "Angola",
          "Antigua and Barbuda",
          "Argentina",
          "Armenia",
          "Australia",
          "Austria",
          "Azerbaijan",
          "Bahamas",
          "Bahrain",
          "Bangladesh",
          "Barbados",
          "Belarus",
          "Belgium",
          "Belize",
          "Benin",
          "Bhutan",
          "Bolivia",
          "Bosnia and Herzegovina",
          "Botswana",
          "Brazil",
          "Brunei",
          "Bulgaria",
          "Burkina Faso",
          "Burma",
          "Burundi",
          "Cabo Verde",
          "Cambodia",
          "Cameroon",
          "Canada",
          "Central African Republic",
          "Chad",
          "Chile",
          "China",
          "Colombia",
          "Comoros",
          "Congo (Brazzaville)",
          "Congo (Kinshasa)",
          "Costa Rica",
          "Cote d'Ivoire",
          "Croatia",
          "Cuba",
          "Cyprus",
          "Czechia",
          "Denmark",
          "Djibouti",
          "Dominica",
          "Dominican Republic",
          "Ecuador",
          "Egypt",
          "El Salvador",
          "Equatorial Guinea",
          "Eritrea",
          "Estonia",
          "Eswatini",
          "Ethiopia",
          "Fiji",
          "Finland",
          "France",
          "Gabon",
          "Gambia",
          "Georgia",
          "Germany",
          "Ghana",
          "Greece",
          "Greenland",
          "Grenada",
          "Guatemala",
          "Guinea",
          "Guinea-Bissau",
          "Guyana",
          "Haiti",
          "Holy See",
          "Honduras",
          "Hungary",
          "Iceland",
          "India",
          "Indonesia",
          "Iran",
          "Iraq",
          "Ireland",
          "Israel",
          "Italy",
          "Jamaica",
          "Japan",
          "Jordan",
          "Kazakhstan",
          "Kenya",
          "Kosovo",
          "Kuwait",
          "Kyrgyzstan",
          "Laos",
          "Latvia",
          "Lebanon",
          "Lesotho",
          "Liberia",
          "Libya",
          "Liechtenstein",
          "Lithuania",
          "Luxembourg",
          "Madagascar",
          "Malawi",
          "Malaysia",
          "Maldives",
          "Mali",
          "Malta",
          "Mauritania",
          "Mauritius",
          "Mexico",
          "Moldova",
          "Monaco",
          "Mongolia",
          "Montenegro",
          "Morocco",
          "Mozambique",
          "Namibia",
          "Nepal",
          "Netherlands",
          "New Zealand",
          "Nicaragua",
          "Niger",
          "Nigeria",
          "North Macedonia",
          "Norway",
          "Oman",
          "Pakistan",
          "Panama",
          "Papua New Guinea",
          "Paraguay",
          "Peru",
          "Philippines",
          "Poland",
          "Portugal",
          "Qatar",
          "Romania",
          "Russia",
          "Rwanda",
          "Saint Kitts and Nevis",
          "Saint Lucia",
          "Saint Vincent and the Grenadines",
          "San Marino",
          "Sao Tome and Principe",
          "Saudi Arabia",
          "Senegal",
          "Serbia",
          "Seychelles",
          "Sierra Leone",
          "Singapore",
          "Slovakia",
          "Slovenia",
          "Somalia",
          "South Africa",
          "South Korea",
          "South Sudan",
          "Spain",
          "Sri Lanka",
          "Sudan",
          "Suriname",
          "Sweden",
          "Switzerland",
          "Syria",
          "Taiwan*",
          "Tajikistan",
          "Tanzania",
          "Thailand",
          "Timor-Leste",
          "Togo",
          "Trinidad and Tobago",
          "Tunisia",
          "Turkey",
          "US",
          "Uganda",
          "Ukraine",
          "United Arab Emirates",
          "United Kingdom",
          "Uruguay",
          "Uzbekistan",
          "Venezuela",
          "Vietnam",
          "West Bank and Gaza",
          "Western Sahara",
          "Yemen",
          "Zambia",
          "Zimbabwe"
         ],
         "locationmode": "country names",
         "locations": [
          "Afghanistan",
          "Albania",
          "Algeria",
          "Andorra",
          "Angola",
          "Antigua and Barbuda",
          "Argentina",
          "Armenia",
          "Australia",
          "Austria",
          "Azerbaijan",
          "Bahamas",
          "Bahrain",
          "Bangladesh",
          "Barbados",
          "Belarus",
          "Belgium",
          "Belize",
          "Benin",
          "Bhutan",
          "Bolivia",
          "Bosnia and Herzegovina",
          "Botswana",
          "Brazil",
          "Brunei",
          "Bulgaria",
          "Burkina Faso",
          "Burma",
          "Burundi",
          "Cabo Verde",
          "Cambodia",
          "Cameroon",
          "Canada",
          "Central African Republic",
          "Chad",
          "Chile",
          "China",
          "Colombia",
          "Comoros",
          "Congo (Brazzaville)",
          "Congo (Kinshasa)",
          "Costa Rica",
          "Cote d'Ivoire",
          "Croatia",
          "Cuba",
          "Cyprus",
          "Czechia",
          "Denmark",
          "Djibouti",
          "Dominica",
          "Dominican Republic",
          "Ecuador",
          "Egypt",
          "El Salvador",
          "Equatorial Guinea",
          "Eritrea",
          "Estonia",
          "Eswatini",
          "Ethiopia",
          "Fiji",
          "Finland",
          "France",
          "Gabon",
          "Gambia",
          "Georgia",
          "Germany",
          "Ghana",
          "Greece",
          "Greenland",
          "Grenada",
          "Guatemala",
          "Guinea",
          "Guinea-Bissau",
          "Guyana",
          "Haiti",
          "Holy See",
          "Honduras",
          "Hungary",
          "Iceland",
          "India",
          "Indonesia",
          "Iran",
          "Iraq",
          "Ireland",
          "Israel",
          "Italy",
          "Jamaica",
          "Japan",
          "Jordan",
          "Kazakhstan",
          "Kenya",
          "Kosovo",
          "Kuwait",
          "Kyrgyzstan",
          "Laos",
          "Latvia",
          "Lebanon",
          "Lesotho",
          "Liberia",
          "Libya",
          "Liechtenstein",
          "Lithuania",
          "Luxembourg",
          "Madagascar",
          "Malawi",
          "Malaysia",
          "Maldives",
          "Mali",
          "Malta",
          "Mauritania",
          "Mauritius",
          "Mexico",
          "Moldova",
          "Monaco",
          "Mongolia",
          "Montenegro",
          "Morocco",
          "Mozambique",
          "Namibia",
          "Nepal",
          "Netherlands",
          "New Zealand",
          "Nicaragua",
          "Niger",
          "Nigeria",
          "North Macedonia",
          "Norway",
          "Oman",
          "Pakistan",
          "Panama",
          "Papua New Guinea",
          "Paraguay",
          "Peru",
          "Philippines",
          "Poland",
          "Portugal",
          "Qatar",
          "Romania",
          "Russia",
          "Rwanda",
          "Saint Kitts and Nevis",
          "Saint Lucia",
          "Saint Vincent and the Grenadines",
          "San Marino",
          "Sao Tome and Principe",
          "Saudi Arabia",
          "Senegal",
          "Serbia",
          "Seychelles",
          "Sierra Leone",
          "Singapore",
          "Slovakia",
          "Slovenia",
          "Somalia",
          "South Africa",
          "South Korea",
          "South Sudan",
          "Spain",
          "Sri Lanka",
          "Sudan",
          "Suriname",
          "Sweden",
          "Switzerland",
          "Syria",
          "Taiwan*",
          "Tajikistan",
          "Tanzania",
          "Thailand",
          "Timor-Leste",
          "Togo",
          "Trinidad and Tobago",
          "Tunisia",
          "Turkey",
          "US",
          "Uganda",
          "Ukraine",
          "United Arab Emirates",
          "United Kingdom",
          "Uruguay",
          "Uzbekistan",
          "Venezuela",
          "Vietnam",
          "West Bank and Gaza",
          "Western Sahara",
          "Yemen",
          "Zambia",
          "Zimbabwe"
         ],
         "name": "",
         "type": "choropleth",
         "z": [
          13620,
          232,
          2993,
          19,
          64,
          4,
          10976,
          5765,
          481,
          470,
          2003,
          43,
          4706,
          36722,
          9,
          23807,
          33027,
          0,
          86,
          37,
          8701,
          495,
          14,
          278980,
          1,
          1299,
          74,
          80,
          29,
          238,
          2,
          2145,
          85092,
          986,
          222,
          79769,
          1695,
          21412,
          78,
          412,
          2550,
          377,
          1365,
          71,
          153,
          137,
          2390,
          733,
          1826,
          0,
          6224,
          16148,
          17989,
          1431,
          1094,
          0,
          177,
          94,
          952,
          3,
          1039,
          91731,
          1916,
          4,
          166,
          9518,
          5087,
          1368,
          2,
          5,
          4244,
          1653,
          1206,
          71,
          2056,
          10,
          4453,
          1203,
          2,
          93349,
          17552,
          24821,
          3078,
          1249,
          1974,
          42075,
          266,
          1511,
          208,
          5414,
          1420,
          205,
          15445,
          562,
          3,
          297,
          481,
          1,
          104,
          99,
          0,
          369,
          75,
          597,
          238,
          1351,
          1315,
          472,
          75,
          480,
          3,
          16962,
          3375,
          5,
          135,
          0,
          2143,
          252,
          10,
          1344,
          40492,
          1,
          354,
          55,
          6868,
          541,
          477,
          8706,
          44834,
          3613,
          0,
          498,
          92762,
          13220,
          11451,
          11681,
          26582,
          4735,
          229267,
          113,
          0,
          0,
          11,
          272,
          403,
          22316,
          1802,
          4471,
          0,
          361,
          13162,
          127,
          7,
          1550,
          15191,
          810,
          978,
          61976,
          822,
          3317,
          13,
          33147,
          442,
          117,
          12,
          1879,
          305,
          61,
          24,
          218,
          1,
          69,
          31429,
          1249002,
          345,
          13426,
          16361,
          217257,
          116,
          771,
          1194,
          49,
          73,
          2,
          229,
          271,
          145
         ]
        }
       ],
       "layout": {
        "coloraxis": {
         "cmax": 10000,
         "cmin": 1,
         "colorbar": {
          "title": {
           "text": "active"
          }
         },
         "colorscale": [
          [
           0,
           "rgb(253, 224, 197)"
          ],
          [
           0.16666666666666666,
           "rgb(250, 203, 166)"
          ],
          [
           0.3333333333333333,
           "rgb(248, 181, 139)"
          ],
          [
           0.5,
           "rgb(245, 158, 114)"
          ],
          [
           0.6666666666666666,
           "rgb(242, 133, 93)"
          ],
          [
           0.8333333333333334,
           "rgb(239, 106, 76)"
          ],
          [
           1,
           "rgb(235, 74, 64)"
          ]
         ]
        },
        "geo": {
         "center": {},
         "domain": {
          "x": [
           0,
           1
          ],
          "y": [
           0,
           1
          ]
         }
        },
        "legend": {
         "tracegroupgap": 0
        },
        "template": {
         "data": {
          "bar": [
           {
            "error_x": {
             "color": "#2a3f5f"
            },
            "error_y": {
             "color": "#2a3f5f"
            },
            "marker": {
             "line": {
              "color": "#E5ECF6",
              "width": 0.5
             },
             "pattern": {
              "fillmode": "overlay",
              "size": 10,
              "solidity": 0.2
             }
            },
            "type": "bar"
           }
          ],
          "barpolar": [
           {
            "marker": {
             "line": {
              "color": "#E5ECF6",
              "width": 0.5
             },
             "pattern": {
              "fillmode": "overlay",
              "size": 10,
              "solidity": 0.2
             }
            },
            "type": "barpolar"
           }
          ],
          "carpet": [
           {
            "aaxis": {
             "endlinecolor": "#2a3f5f",
             "gridcolor": "white",
             "linecolor": "white",
             "minorgridcolor": "white",
             "startlinecolor": "#2a3f5f"
            },
            "baxis": {
             "endlinecolor": "#2a3f5f",
             "gridcolor": "white",
             "linecolor": "white",
             "minorgridcolor": "white",
             "startlinecolor": "#2a3f5f"
            },
            "type": "carpet"
           }
          ],
          "choropleth": [
           {
            "colorbar": {
             "outlinewidth": 0,
             "ticks": ""
            },
            "type": "choropleth"
           }
          ],
          "contour": [
           {
            "colorbar": {
             "outlinewidth": 0,
             "ticks": ""
            },
            "colorscale": [
             [
              0,
              "#0d0887"
             ],
             [
              0.1111111111111111,
              "#46039f"
             ],
             [
              0.2222222222222222,
              "#7201a8"
             ],
             [
              0.3333333333333333,
              "#9c179e"
             ],
             [
              0.4444444444444444,
              "#bd3786"
             ],
             [
              0.5555555555555556,
              "#d8576b"
             ],
             [
              0.6666666666666666,
              "#ed7953"
             ],
             [
              0.7777777777777778,
              "#fb9f3a"
             ],
             [
              0.8888888888888888,
              "#fdca26"
             ],
             [
              1,
              "#f0f921"
             ]
            ],
            "type": "contour"
           }
          ],
          "contourcarpet": [
           {
            "colorbar": {
             "outlinewidth": 0,
             "ticks": ""
            },
            "type": "contourcarpet"
           }
          ],
          "heatmap": [
           {
            "colorbar": {
             "outlinewidth": 0,
             "ticks": ""
            },
            "colorscale": [
             [
              0,
              "#0d0887"
             ],
             [
              0.1111111111111111,
              "#46039f"
             ],
             [
              0.2222222222222222,
              "#7201a8"
             ],
             [
              0.3333333333333333,
              "#9c179e"
             ],
             [
              0.4444444444444444,
              "#bd3786"
             ],
             [
              0.5555555555555556,
              "#d8576b"
             ],
             [
              0.6666666666666666,
              "#ed7953"
             ],
             [
              0.7777777777777778,
              "#fb9f3a"
             ],
             [
              0.8888888888888888,
              "#fdca26"
             ],
             [
              1,
              "#f0f921"
             ]
            ],
            "type": "heatmap"
           }
          ],
          "heatmapgl": [
           {
            "colorbar": {
             "outlinewidth": 0,
             "ticks": ""
            },
            "colorscale": [
             [
              0,
              "#0d0887"
             ],
             [
              0.1111111111111111,
              "#46039f"
             ],
             [
              0.2222222222222222,
              "#7201a8"
             ],
             [
              0.3333333333333333,
              "#9c179e"
             ],
             [
              0.4444444444444444,
              "#bd3786"
             ],
             [
              0.5555555555555556,
              "#d8576b"
             ],
             [
              0.6666666666666666,
              "#ed7953"
             ],
             [
              0.7777777777777778,
              "#fb9f3a"
             ],
             [
              0.8888888888888888,
              "#fdca26"
             ],
             [
              1,
              "#f0f921"
             ]
            ],
            "type": "heatmapgl"
           }
          ],
          "histogram": [
           {
            "marker": {
             "pattern": {
              "fillmode": "overlay",
              "size": 10,
              "solidity": 0.2
             }
            },
            "type": "histogram"
           }
          ],
          "histogram2d": [
           {
            "colorbar": {
             "outlinewidth": 0,
             "ticks": ""
            },
            "colorscale": [
             [
              0,
              "#0d0887"
             ],
             [
              0.1111111111111111,
              "#46039f"
             ],
             [
              0.2222222222222222,
              "#7201a8"
             ],
             [
              0.3333333333333333,
              "#9c179e"
             ],
             [
              0.4444444444444444,
              "#bd3786"
             ],
             [
              0.5555555555555556,
              "#d8576b"
             ],
             [
              0.6666666666666666,
              "#ed7953"
             ],
             [
              0.7777777777777778,
              "#fb9f3a"
             ],
             [
              0.8888888888888888,
              "#fdca26"
             ],
             [
              1,
              "#f0f921"
             ]
            ],
            "type": "histogram2d"
           }
          ],
          "histogram2dcontour": [
           {
            "colorbar": {
             "outlinewidth": 0,
             "ticks": ""
            },
            "colorscale": [
             [
              0,
              "#0d0887"
             ],
             [
              0.1111111111111111,
              "#46039f"
             ],
             [
              0.2222222222222222,
              "#7201a8"
             ],
             [
              0.3333333333333333,
              "#9c179e"
             ],
             [
              0.4444444444444444,
              "#bd3786"
             ],
             [
              0.5555555555555556,
              "#d8576b"
             ],
             [
              0.6666666666666666,
              "#ed7953"
             ],
             [
              0.7777777777777778,
              "#fb9f3a"
             ],
             [
              0.8888888888888888,
              "#fdca26"
             ],
             [
              1,
              "#f0f921"
             ]
            ],
            "type": "histogram2dcontour"
           }
          ],
          "mesh3d": [
           {
            "colorbar": {
             "outlinewidth": 0,
             "ticks": ""
            },
            "type": "mesh3d"
           }
          ],
          "parcoords": [
           {
            "line": {
             "colorbar": {
              "outlinewidth": 0,
              "ticks": ""
             }
            },
            "type": "parcoords"
           }
          ],
          "pie": [
           {
            "automargin": true,
            "type": "pie"
           }
          ],
          "scatter": [
           {
            "marker": {
             "colorbar": {
              "outlinewidth": 0,
              "ticks": ""
             }
            },
            "type": "scatter"
           }
          ],
          "scatter3d": [
           {
            "line": {
             "colorbar": {
              "outlinewidth": 0,
              "ticks": ""
             }
            },
            "marker": {
             "colorbar": {
              "outlinewidth": 0,
              "ticks": ""
             }
            },
            "type": "scatter3d"
           }
          ],
          "scattercarpet": [
           {
            "marker": {
             "colorbar": {
              "outlinewidth": 0,
              "ticks": ""
             }
            },
            "type": "scattercarpet"
           }
          ],
          "scattergeo": [
           {
            "marker": {
             "colorbar": {
              "outlinewidth": 0,
              "ticks": ""
             }
            },
            "type": "scattergeo"
           }
          ],
          "scattergl": [
           {
            "marker": {
             "colorbar": {
              "outlinewidth": 0,
              "ticks": ""
             }
            },
            "type": "scattergl"
           }
          ],
          "scattermapbox": [
           {
            "marker": {
             "colorbar": {
              "outlinewidth": 0,
              "ticks": ""
             }
            },
            "type": "scattermapbox"
           }
          ],
          "scatterpolar": [
           {
            "marker": {
             "colorbar": {
              "outlinewidth": 0,
              "ticks": ""
             }
            },
            "type": "scatterpolar"
           }
          ],
          "scatterpolargl": [
           {
            "marker": {
             "colorbar": {
              "outlinewidth": 0,
              "ticks": ""
             }
            },
            "type": "scatterpolargl"
           }
          ],
          "scatterternary": [
           {
            "marker": {
             "colorbar": {
              "outlinewidth": 0,
              "ticks": ""
             }
            },
            "type": "scatterternary"
           }
          ],
          "surface": [
           {
            "colorbar": {
             "outlinewidth": 0,
             "ticks": ""
            },
            "colorscale": [
             [
              0,
              "#0d0887"
             ],
             [
              0.1111111111111111,
              "#46039f"
             ],
             [
              0.2222222222222222,
              "#7201a8"
             ],
             [
              0.3333333333333333,
              "#9c179e"
             ],
             [
              0.4444444444444444,
              "#bd3786"
             ],
             [
              0.5555555555555556,
              "#d8576b"
             ],
             [
              0.6666666666666666,
              "#ed7953"
             ],
             [
              0.7777777777777778,
              "#fb9f3a"
             ],
             [
              0.8888888888888888,
              "#fdca26"
             ],
             [
              1,
              "#f0f921"
             ]
            ],
            "type": "surface"
           }
          ],
          "table": [
           {
            "cells": {
             "fill": {
              "color": "#EBF0F8"
             },
             "line": {
              "color": "white"
             }
            },
            "header": {
             "fill": {
              "color": "#C8D4E3"
             },
             "line": {
              "color": "white"
             }
            },
            "type": "table"
           }
          ]
         },
         "layout": {
          "annotationdefaults": {
           "arrowcolor": "#2a3f5f",
           "arrowhead": 0,
           "arrowwidth": 1
          },
          "autotypenumbers": "strict",
          "coloraxis": {
           "colorbar": {
            "outlinewidth": 0,
            "ticks": ""
           }
          },
          "colorscale": {
           "diverging": [
            [
             0,
             "#8e0152"
            ],
            [
             0.1,
             "#c51b7d"
            ],
            [
             0.2,
             "#de77ae"
            ],
            [
             0.3,
             "#f1b6da"
            ],
            [
             0.4,
             "#fde0ef"
            ],
            [
             0.5,
             "#f7f7f7"
            ],
            [
             0.6,
             "#e6f5d0"
            ],
            [
             0.7,
             "#b8e186"
            ],
            [
             0.8,
             "#7fbc41"
            ],
            [
             0.9,
             "#4d9221"
            ],
            [
             1,
             "#276419"
            ]
           ],
           "sequential": [
            [
             0,
             "#0d0887"
            ],
            [
             0.1111111111111111,
             "#46039f"
            ],
            [
             0.2222222222222222,
             "#7201a8"
            ],
            [
             0.3333333333333333,
             "#9c179e"
            ],
            [
             0.4444444444444444,
             "#bd3786"
            ],
            [
             0.5555555555555556,
             "#d8576b"
            ],
            [
             0.6666666666666666,
             "#ed7953"
            ],
            [
             0.7777777777777778,
             "#fb9f3a"
            ],
            [
             0.8888888888888888,
             "#fdca26"
            ],
            [
             1,
             "#f0f921"
            ]
           ],
           "sequentialminus": [
            [
             0,
             "#0d0887"
            ],
            [
             0.1111111111111111,
             "#46039f"
            ],
            [
             0.2222222222222222,
             "#7201a8"
            ],
            [
             0.3333333333333333,
             "#9c179e"
            ],
            [
             0.4444444444444444,
             "#bd3786"
            ],
            [
             0.5555555555555556,
             "#d8576b"
            ],
            [
             0.6666666666666666,
             "#ed7953"
            ],
            [
             0.7777777777777778,
             "#fb9f3a"
            ],
            [
             0.8888888888888888,
             "#fdca26"
            ],
            [
             1,
             "#f0f921"
            ]
           ]
          },
          "colorway": [
           "#636efa",
           "#EF553B",
           "#00cc96",
           "#ab63fa",
           "#FFA15A",
           "#19d3f3",
           "#FF6692",
           "#B6E880",
           "#FF97FF",
           "#FECB52"
          ],
          "font": {
           "color": "#2a3f5f"
          },
          "geo": {
           "bgcolor": "white",
           "lakecolor": "white",
           "landcolor": "#E5ECF6",
           "showlakes": true,
           "showland": true,
           "subunitcolor": "white"
          },
          "hoverlabel": {
           "align": "left"
          },
          "hovermode": "closest",
          "mapbox": {
           "style": "light"
          },
          "paper_bgcolor": "white",
          "plot_bgcolor": "#E5ECF6",
          "polar": {
           "angularaxis": {
            "gridcolor": "white",
            "linecolor": "white",
            "ticks": ""
           },
           "bgcolor": "#E5ECF6",
           "radialaxis": {
            "gridcolor": "white",
            "linecolor": "white",
            "ticks": ""
           }
          },
          "scene": {
           "xaxis": {
            "backgroundcolor": "#E5ECF6",
            "gridcolor": "white",
            "gridwidth": 2,
            "linecolor": "white",
            "showbackground": true,
            "ticks": "",
            "zerolinecolor": "white"
           },
           "yaxis": {
            "backgroundcolor": "#E5ECF6",
            "gridcolor": "white",
            "gridwidth": 2,
            "linecolor": "white",
            "showbackground": true,
            "ticks": "",
            "zerolinecolor": "white"
           },
           "zaxis": {
            "backgroundcolor": "#E5ECF6",
            "gridcolor": "white",
            "gridwidth": 2,
            "linecolor": "white",
            "showbackground": true,
            "ticks": "",
            "zerolinecolor": "white"
           }
          },
          "shapedefaults": {
           "line": {
            "color": "#2a3f5f"
           }
          },
          "ternary": {
           "aaxis": {
            "gridcolor": "white",
            "linecolor": "white",
            "ticks": ""
           },
           "baxis": {
            "gridcolor": "white",
            "linecolor": "white",
            "ticks": ""
           },
           "bgcolor": "#E5ECF6",
           "caxis": {
            "gridcolor": "white",
            "linecolor": "white",
            "ticks": ""
           }
          },
          "title": {
           "x": 0.05
          },
          "xaxis": {
           "automargin": true,
           "gridcolor": "white",
           "linecolor": "white",
           "ticks": "",
           "title": {
            "standoff": 15
           },
           "zerolinecolor": "white",
           "zerolinewidth": 2
          },
          "yaxis": {
           "automargin": true,
           "gridcolor": "white",
           "linecolor": "white",
           "ticks": "",
           "title": {
            "standoff": 15
           },
           "zerolinecolor": "white",
           "zerolinewidth": 2
          }
         }
        },
        "title": {
         "text": "Active Cases in World"
        }
       }
      },
      "text/html": [
       "<div>                            <div id=\"9ad3609a-aa20-453b-89d9-19da2633c188\" class=\"plotly-graph-div\" style=\"height:525px; width:100%;\"></div>            <script type=\"text/javascript\">                require([\"plotly\"], function(Plotly) {                    window.PLOTLYENV=window.PLOTLYENV || {};                                    if (document.getElementById(\"9ad3609a-aa20-453b-89d9-19da2633c188\")) {                    Plotly.newPlot(                        \"9ad3609a-aa20-453b-89d9-19da2633c188\",                        [{\"coloraxis\":\"coloraxis\",\"geo\":\"geo\",\"hovertemplate\":\"<b>%{hovertext}</b><br><br>Country=%{location}<br>active=%{z}<extra></extra>\",\"hovertext\":[\"Afghanistan\",\"Albania\",\"Algeria\",\"Andorra\",\"Angola\",\"Antigua and Barbuda\",\"Argentina\",\"Armenia\",\"Australia\",\"Austria\",\"Azerbaijan\",\"Bahamas\",\"Bahrain\",\"Bangladesh\",\"Barbados\",\"Belarus\",\"Belgium\",\"Belize\",\"Benin\",\"Bhutan\",\"Bolivia\",\"Bosnia and Herzegovina\",\"Botswana\",\"Brazil\",\"Brunei\",\"Bulgaria\",\"Burkina Faso\",\"Burma\",\"Burundi\",\"Cabo Verde\",\"Cambodia\",\"Cameroon\",\"Canada\",\"Central African Republic\",\"Chad\",\"Chile\",\"China\",\"Colombia\",\"Comoros\",\"Congo (Brazzaville)\",\"Congo (Kinshasa)\",\"Costa Rica\",\"Cote d'Ivoire\",\"Croatia\",\"Cuba\",\"Cyprus\",\"Czechia\",\"Denmark\",\"Djibouti\",\"Dominica\",\"Dominican Republic\",\"Ecuador\",\"Egypt\",\"El Salvador\",\"Equatorial Guinea\",\"Eritrea\",\"Estonia\",\"Eswatini\",\"Ethiopia\",\"Fiji\",\"Finland\",\"France\",\"Gabon\",\"Gambia\",\"Georgia\",\"Germany\",\"Ghana\",\"Greece\",\"Greenland\",\"Grenada\",\"Guatemala\",\"Guinea\",\"Guinea-Bissau\",\"Guyana\",\"Haiti\",\"Holy See\",\"Honduras\",\"Hungary\",\"Iceland\",\"India\",\"Indonesia\",\"Iran\",\"Iraq\",\"Ireland\",\"Israel\",\"Italy\",\"Jamaica\",\"Japan\",\"Jordan\",\"Kazakhstan\",\"Kenya\",\"Kosovo\",\"Kuwait\",\"Kyrgyzstan\",\"Laos\",\"Latvia\",\"Lebanon\",\"Lesotho\",\"Liberia\",\"Libya\",\"Liechtenstein\",\"Lithuania\",\"Luxembourg\",\"Madagascar\",\"Malawi\",\"Malaysia\",\"Maldives\",\"Mali\",\"Malta\",\"Mauritania\",\"Mauritius\",\"Mexico\",\"Moldova\",\"Monaco\",\"Mongolia\",\"Montenegro\",\"Morocco\",\"Mozambique\",\"Namibia\",\"Nepal\",\"Netherlands\",\"New Zealand\",\"Nicaragua\",\"Niger\",\"Nigeria\",\"North Macedonia\",\"Norway\",\"Oman\",\"Pakistan\",\"Panama\",\"Papua New Guinea\",\"Paraguay\",\"Peru\",\"Philippines\",\"Poland\",\"Portugal\",\"Qatar\",\"Romania\",\"Russia\",\"Rwanda\",\"Saint Kitts and Nevis\",\"Saint Lucia\",\"Saint Vincent and the Grenadines\",\"San Marino\",\"Sao Tome and Principe\",\"Saudi Arabia\",\"Senegal\",\"Serbia\",\"Seychelles\",\"Sierra Leone\",\"Singapore\",\"Slovakia\",\"Slovenia\",\"Somalia\",\"South Africa\",\"South Korea\",\"South Sudan\",\"Spain\",\"Sri Lanka\",\"Sudan\",\"Suriname\",\"Sweden\",\"Switzerland\",\"Syria\",\"Taiwan*\",\"Tajikistan\",\"Tanzania\",\"Thailand\",\"Timor-Leste\",\"Togo\",\"Trinidad and Tobago\",\"Tunisia\",\"Turkey\",\"US\",\"Uganda\",\"Ukraine\",\"United Arab Emirates\",\"United Kingdom\",\"Uruguay\",\"Uzbekistan\",\"Venezuela\",\"Vietnam\",\"West Bank and Gaza\",\"Western Sahara\",\"Yemen\",\"Zambia\",\"Zimbabwe\"],\"locationmode\":\"country names\",\"locations\":[\"Afghanistan\",\"Albania\",\"Algeria\",\"Andorra\",\"Angola\",\"Antigua and Barbuda\",\"Argentina\",\"Armenia\",\"Australia\",\"Austria\",\"Azerbaijan\",\"Bahamas\",\"Bahrain\",\"Bangladesh\",\"Barbados\",\"Belarus\",\"Belgium\",\"Belize\",\"Benin\",\"Bhutan\",\"Bolivia\",\"Bosnia and Herzegovina\",\"Botswana\",\"Brazil\",\"Brunei\",\"Bulgaria\",\"Burkina Faso\",\"Burma\",\"Burundi\",\"Cabo Verde\",\"Cambodia\",\"Cameroon\",\"Canada\",\"Central African Republic\",\"Chad\",\"Chile\",\"China\",\"Colombia\",\"Comoros\",\"Congo (Brazzaville)\",\"Congo (Kinshasa)\",\"Costa Rica\",\"Cote d'Ivoire\",\"Croatia\",\"Cuba\",\"Cyprus\",\"Czechia\",\"Denmark\",\"Djibouti\",\"Dominica\",\"Dominican Republic\",\"Ecuador\",\"Egypt\",\"El Salvador\",\"Equatorial Guinea\",\"Eritrea\",\"Estonia\",\"Eswatini\",\"Ethiopia\",\"Fiji\",\"Finland\",\"France\",\"Gabon\",\"Gambia\",\"Georgia\",\"Germany\",\"Ghana\",\"Greece\",\"Greenland\",\"Grenada\",\"Guatemala\",\"Guinea\",\"Guinea-Bissau\",\"Guyana\",\"Haiti\",\"Holy See\",\"Honduras\",\"Hungary\",\"Iceland\",\"India\",\"Indonesia\",\"Iran\",\"Iraq\",\"Ireland\",\"Israel\",\"Italy\",\"Jamaica\",\"Japan\",\"Jordan\",\"Kazakhstan\",\"Kenya\",\"Kosovo\",\"Kuwait\",\"Kyrgyzstan\",\"Laos\",\"Latvia\",\"Lebanon\",\"Lesotho\",\"Liberia\",\"Libya\",\"Liechtenstein\",\"Lithuania\",\"Luxembourg\",\"Madagascar\",\"Malawi\",\"Malaysia\",\"Maldives\",\"Mali\",\"Malta\",\"Mauritania\",\"Mauritius\",\"Mexico\",\"Moldova\",\"Monaco\",\"Mongolia\",\"Montenegro\",\"Morocco\",\"Mozambique\",\"Namibia\",\"Nepal\",\"Netherlands\",\"New Zealand\",\"Nicaragua\",\"Niger\",\"Nigeria\",\"North Macedonia\",\"Norway\",\"Oman\",\"Pakistan\",\"Panama\",\"Papua New Guinea\",\"Paraguay\",\"Peru\",\"Philippines\",\"Poland\",\"Portugal\",\"Qatar\",\"Romania\",\"Russia\",\"Rwanda\",\"Saint Kitts and Nevis\",\"Saint Lucia\",\"Saint Vincent and the Grenadines\",\"San Marino\",\"Sao Tome and Principe\",\"Saudi Arabia\",\"Senegal\",\"Serbia\",\"Seychelles\",\"Sierra Leone\",\"Singapore\",\"Slovakia\",\"Slovenia\",\"Somalia\",\"South Africa\",\"South Korea\",\"South Sudan\",\"Spain\",\"Sri Lanka\",\"Sudan\",\"Suriname\",\"Sweden\",\"Switzerland\",\"Syria\",\"Taiwan*\",\"Tajikistan\",\"Tanzania\",\"Thailand\",\"Timor-Leste\",\"Togo\",\"Trinidad and Tobago\",\"Tunisia\",\"Turkey\",\"US\",\"Uganda\",\"Ukraine\",\"United Arab Emirates\",\"United Kingdom\",\"Uruguay\",\"Uzbekistan\",\"Venezuela\",\"Vietnam\",\"West Bank and Gaza\",\"Western Sahara\",\"Yemen\",\"Zambia\",\"Zimbabwe\"],\"name\":\"\",\"type\":\"choropleth\",\"z\":[13620,232,2993,19,64,4,10976,5765,481,470,2003,43,4706,36722,9,23807,33027,0,86,37,8701,495,14,278980,1,1299,74,80,29,238,2,2145,85092,986,222,79769,1695,21412,78,412,2550,377,1365,71,153,137,2390,733,1826,0,6224,16148,17989,1431,1094,0,177,94,952,3,1039,91731,1916,4,166,9518,5087,1368,2,5,4244,1653,1206,71,2056,10,4453,1203,2,93349,17552,24821,3078,1249,1974,42075,266,1511,208,5414,1420,205,15445,562,3,297,481,1,104,99,0,369,75,597,238,1351,1315,472,75,480,3,16962,3375,5,135,0,2143,252,10,1344,40492,1,354,55,6868,541,477,8706,44834,3613,0,498,92762,13220,11451,11681,26582,4735,229267,113,0,0,11,272,403,22316,1802,4471,0,361,13162,127,7,1550,15191,810,978,61976,822,3317,13,33147,442,117,12,1879,305,61,24,218,1,69,31429,1249002,345,13426,16361,217257,116,771,1194,49,73,2,229,271,145]}],                        {\"coloraxis\":{\"cmax\":10000,\"cmin\":1,\"colorbar\":{\"title\":{\"text\":\"active\"}},\"colorscale\":[[0.0,\"rgb(253, 224, 197)\"],[0.16666666666666666,\"rgb(250, 203, 166)\"],[0.3333333333333333,\"rgb(248, 181, 139)\"],[0.5,\"rgb(245, 158, 114)\"],[0.6666666666666666,\"rgb(242, 133, 93)\"],[0.8333333333333334,\"rgb(239, 106, 76)\"],[1.0,\"rgb(235, 74, 64)\"]]},\"geo\":{\"center\":{},\"domain\":{\"x\":[0.0,1.0],\"y\":[0.0,1.0]}},\"legend\":{\"tracegroupgap\":0},\"template\":{\"data\":{\"bar\":[{\"error_x\":{\"color\":\"#2a3f5f\"},\"error_y\":{\"color\":\"#2a3f5f\"},\"marker\":{\"line\":{\"color\":\"#E5ECF6\",\"width\":0.5},\"pattern\":{\"fillmode\":\"overlay\",\"size\":10,\"solidity\":0.2}},\"type\":\"bar\"}],\"barpolar\":[{\"marker\":{\"line\":{\"color\":\"#E5ECF6\",\"width\":0.5},\"pattern\":{\"fillmode\":\"overlay\",\"size\":10,\"solidity\":0.2}},\"type\":\"barpolar\"}],\"carpet\":[{\"aaxis\":{\"endlinecolor\":\"#2a3f5f\",\"gridcolor\":\"white\",\"linecolor\":\"white\",\"minorgridcolor\":\"white\",\"startlinecolor\":\"#2a3f5f\"},\"baxis\":{\"endlinecolor\":\"#2a3f5f\",\"gridcolor\":\"white\",\"linecolor\":\"white\",\"minorgridcolor\":\"white\",\"startlinecolor\":\"#2a3f5f\"},\"type\":\"carpet\"}],\"choropleth\":[{\"colorbar\":{\"outlinewidth\":0,\"ticks\":\"\"},\"type\":\"choropleth\"}],\"contour\":[{\"colorbar\":{\"outlinewidth\":0,\"ticks\":\"\"},\"colorscale\":[[0.0,\"#0d0887\"],[0.1111111111111111,\"#46039f\"],[0.2222222222222222,\"#7201a8\"],[0.3333333333333333,\"#9c179e\"],[0.4444444444444444,\"#bd3786\"],[0.5555555555555556,\"#d8576b\"],[0.6666666666666666,\"#ed7953\"],[0.7777777777777778,\"#fb9f3a\"],[0.8888888888888888,\"#fdca26\"],[1.0,\"#f0f921\"]],\"type\":\"contour\"}],\"contourcarpet\":[{\"colorbar\":{\"outlinewidth\":0,\"ticks\":\"\"},\"type\":\"contourcarpet\"}],\"heatmap\":[{\"colorbar\":{\"outlinewidth\":0,\"ticks\":\"\"},\"colorscale\":[[0.0,\"#0d0887\"],[0.1111111111111111,\"#46039f\"],[0.2222222222222222,\"#7201a8\"],[0.3333333333333333,\"#9c179e\"],[0.4444444444444444,\"#bd3786\"],[0.5555555555555556,\"#d8576b\"],[0.6666666666666666,\"#ed7953\"],[0.7777777777777778,\"#fb9f3a\"],[0.8888888888888888,\"#fdca26\"],[1.0,\"#f0f921\"]],\"type\":\"heatmap\"}],\"heatmapgl\":[{\"colorbar\":{\"outlinewidth\":0,\"ticks\":\"\"},\"colorscale\":[[0.0,\"#0d0887\"],[0.1111111111111111,\"#46039f\"],[0.2222222222222222,\"#7201a8\"],[0.3333333333333333,\"#9c179e\"],[0.4444444444444444,\"#bd3786\"],[0.5555555555555556,\"#d8576b\"],[0.6666666666666666,\"#ed7953\"],[0.7777777777777778,\"#fb9f3a\"],[0.8888888888888888,\"#fdca26\"],[1.0,\"#f0f921\"]],\"type\":\"heatmapgl\"}],\"histogram\":[{\"marker\":{\"pattern\":{\"fillmode\":\"overlay\",\"size\":10,\"solidity\":0.2}},\"type\":\"histogram\"}],\"histogram2d\":[{\"colorbar\":{\"outlinewidth\":0,\"ticks\":\"\"},\"colorscale\":[[0.0,\"#0d0887\"],[0.1111111111111111,\"#46039f\"],[0.2222222222222222,\"#7201a8\"],[0.3333333333333333,\"#9c179e\"],[0.4444444444444444,\"#bd3786\"],[0.5555555555555556,\"#d8576b\"],[0.6666666666666666,\"#ed7953\"],[0.7777777777777778,\"#fb9f3a\"],[0.8888888888888888,\"#fdca26\"],[1.0,\"#f0f921\"]],\"type\":\"histogram2d\"}],\"histogram2dcontour\":[{\"colorbar\":{\"outlinewidth\":0,\"ticks\":\"\"},\"colorscale\":[[0.0,\"#0d0887\"],[0.1111111111111111,\"#46039f\"],[0.2222222222222222,\"#7201a8\"],[0.3333333333333333,\"#9c179e\"],[0.4444444444444444,\"#bd3786\"],[0.5555555555555556,\"#d8576b\"],[0.6666666666666666,\"#ed7953\"],[0.7777777777777778,\"#fb9f3a\"],[0.8888888888888888,\"#fdca26\"],[1.0,\"#f0f921\"]],\"type\":\"histogram2dcontour\"}],\"mesh3d\":[{\"colorbar\":{\"outlinewidth\":0,\"ticks\":\"\"},\"type\":\"mesh3d\"}],\"parcoords\":[{\"line\":{\"colorbar\":{\"outlinewidth\":0,\"ticks\":\"\"}},\"type\":\"parcoords\"}],\"pie\":[{\"automargin\":true,\"type\":\"pie\"}],\"scatter\":[{\"marker\":{\"colorbar\":{\"outlinewidth\":0,\"ticks\":\"\"}},\"type\":\"scatter\"}],\"scatter3d\":[{\"line\":{\"colorbar\":{\"outlinewidth\":0,\"ticks\":\"\"}},\"marker\":{\"colorbar\":{\"outlinewidth\":0,\"ticks\":\"\"}},\"type\":\"scatter3d\"}],\"scattercarpet\":[{\"marker\":{\"colorbar\":{\"outlinewidth\":0,\"ticks\":\"\"}},\"type\":\"scattercarpet\"}],\"scattergeo\":[{\"marker\":{\"colorbar\":{\"outlinewidth\":0,\"ticks\":\"\"}},\"type\":\"scattergeo\"}],\"scattergl\":[{\"marker\":{\"colorbar\":{\"outlinewidth\":0,\"ticks\":\"\"}},\"type\":\"scattergl\"}],\"scattermapbox\":[{\"marker\":{\"colorbar\":{\"outlinewidth\":0,\"ticks\":\"\"}},\"type\":\"scattermapbox\"}],\"scatterpolar\":[{\"marker\":{\"colorbar\":{\"outlinewidth\":0,\"ticks\":\"\"}},\"type\":\"scatterpolar\"}],\"scatterpolargl\":[{\"marker\":{\"colorbar\":{\"outlinewidth\":0,\"ticks\":\"\"}},\"type\":\"scatterpolargl\"}],\"scatterternary\":[{\"marker\":{\"colorbar\":{\"outlinewidth\":0,\"ticks\":\"\"}},\"type\":\"scatterternary\"}],\"surface\":[{\"colorbar\":{\"outlinewidth\":0,\"ticks\":\"\"},\"colorscale\":[[0.0,\"#0d0887\"],[0.1111111111111111,\"#46039f\"],[0.2222222222222222,\"#7201a8\"],[0.3333333333333333,\"#9c179e\"],[0.4444444444444444,\"#bd3786\"],[0.5555555555555556,\"#d8576b\"],[0.6666666666666666,\"#ed7953\"],[0.7777777777777778,\"#fb9f3a\"],[0.8888888888888888,\"#fdca26\"],[1.0,\"#f0f921\"]],\"type\":\"surface\"}],\"table\":[{\"cells\":{\"fill\":{\"color\":\"#EBF0F8\"},\"line\":{\"color\":\"white\"}},\"header\":{\"fill\":{\"color\":\"#C8D4E3\"},\"line\":{\"color\":\"white\"}},\"type\":\"table\"}]},\"layout\":{\"annotationdefaults\":{\"arrowcolor\":\"#2a3f5f\",\"arrowhead\":0,\"arrowwidth\":1},\"autotypenumbers\":\"strict\",\"coloraxis\":{\"colorbar\":{\"outlinewidth\":0,\"ticks\":\"\"}},\"colorscale\":{\"diverging\":[[0,\"#8e0152\"],[0.1,\"#c51b7d\"],[0.2,\"#de77ae\"],[0.3,\"#f1b6da\"],[0.4,\"#fde0ef\"],[0.5,\"#f7f7f7\"],[0.6,\"#e6f5d0\"],[0.7,\"#b8e186\"],[0.8,\"#7fbc41\"],[0.9,\"#4d9221\"],[1,\"#276419\"]],\"sequential\":[[0.0,\"#0d0887\"],[0.1111111111111111,\"#46039f\"],[0.2222222222222222,\"#7201a8\"],[0.3333333333333333,\"#9c179e\"],[0.4444444444444444,\"#bd3786\"],[0.5555555555555556,\"#d8576b\"],[0.6666666666666666,\"#ed7953\"],[0.7777777777777778,\"#fb9f3a\"],[0.8888888888888888,\"#fdca26\"],[1.0,\"#f0f921\"]],\"sequentialminus\":[[0.0,\"#0d0887\"],[0.1111111111111111,\"#46039f\"],[0.2222222222222222,\"#7201a8\"],[0.3333333333333333,\"#9c179e\"],[0.4444444444444444,\"#bd3786\"],[0.5555555555555556,\"#d8576b\"],[0.6666666666666666,\"#ed7953\"],[0.7777777777777778,\"#fb9f3a\"],[0.8888888888888888,\"#fdca26\"],[1.0,\"#f0f921\"]]},\"colorway\":[\"#636efa\",\"#EF553B\",\"#00cc96\",\"#ab63fa\",\"#FFA15A\",\"#19d3f3\",\"#FF6692\",\"#B6E880\",\"#FF97FF\",\"#FECB52\"],\"font\":{\"color\":\"#2a3f5f\"},\"geo\":{\"bgcolor\":\"white\",\"lakecolor\":\"white\",\"landcolor\":\"#E5ECF6\",\"showlakes\":true,\"showland\":true,\"subunitcolor\":\"white\"},\"hoverlabel\":{\"align\":\"left\"},\"hovermode\":\"closest\",\"mapbox\":{\"style\":\"light\"},\"paper_bgcolor\":\"white\",\"plot_bgcolor\":\"#E5ECF6\",\"polar\":{\"angularaxis\":{\"gridcolor\":\"white\",\"linecolor\":\"white\",\"ticks\":\"\"},\"bgcolor\":\"#E5ECF6\",\"radialaxis\":{\"gridcolor\":\"white\",\"linecolor\":\"white\",\"ticks\":\"\"}},\"scene\":{\"xaxis\":{\"backgroundcolor\":\"#E5ECF6\",\"gridcolor\":\"white\",\"gridwidth\":2,\"linecolor\":\"white\",\"showbackground\":true,\"ticks\":\"\",\"zerolinecolor\":\"white\"},\"yaxis\":{\"backgroundcolor\":\"#E5ECF6\",\"gridcolor\":\"white\",\"gridwidth\":2,\"linecolor\":\"white\",\"showbackground\":true,\"ticks\":\"\",\"zerolinecolor\":\"white\"},\"zaxis\":{\"backgroundcolor\":\"#E5ECF6\",\"gridcolor\":\"white\",\"gridwidth\":2,\"linecolor\":\"white\",\"showbackground\":true,\"ticks\":\"\",\"zerolinecolor\":\"white\"}},\"shapedefaults\":{\"line\":{\"color\":\"#2a3f5f\"}},\"ternary\":{\"aaxis\":{\"gridcolor\":\"white\",\"linecolor\":\"white\",\"ticks\":\"\"},\"baxis\":{\"gridcolor\":\"white\",\"linecolor\":\"white\",\"ticks\":\"\"},\"bgcolor\":\"#E5ECF6\",\"caxis\":{\"gridcolor\":\"white\",\"linecolor\":\"white\",\"ticks\":\"\"}},\"title\":{\"x\":0.05},\"xaxis\":{\"automargin\":true,\"gridcolor\":\"white\",\"linecolor\":\"white\",\"ticks\":\"\",\"title\":{\"standoff\":15},\"zerolinecolor\":\"white\",\"zerolinewidth\":2},\"yaxis\":{\"automargin\":true,\"gridcolor\":\"white\",\"linecolor\":\"white\",\"ticks\":\"\",\"title\":{\"standoff\":15},\"zerolinecolor\":\"white\",\"zerolinewidth\":2}}},\"title\":{\"text\":\"Active Cases in World\"}},                        {\"responsive\": true}                    ).then(function(){\n",
       "                            \n",
       "var gd = document.getElementById('9ad3609a-aa20-453b-89d9-19da2633c188');\n",
       "var x = new MutationObserver(function (mutations, observer) {{\n",
       "        var display = window.getComputedStyle(gd).display;\n",
       "        if (!display || display === 'none') {{\n",
       "            console.log([gd, 'removed!']);\n",
       "            Plotly.purge(gd);\n",
       "            observer.disconnect();\n",
       "        }}\n",
       "}});\n",
       "\n",
       "// Listen for the removal of the full notebook cells\n",
       "var notebookContainer = gd.closest('#notebook-container');\n",
       "if (notebookContainer) {{\n",
       "    x.observe(notebookContainer, {childList: true});\n",
       "}}\n",
       "\n",
       "// Listen for the clearing of the current output cell\n",
       "var outputEl = gd.closest('.output');\n",
       "if (outputEl) {{\n",
       "    x.observe(outputEl, {childList: true});\n",
       "}}\n",
       "\n",
       "                        })                };                });            </script>        </div>"
      ]
     },
     "metadata": {},
     "output_type": "display_data"
    }
   ],
   "source": [
    "#plot world map per 10k active infections\n",
    "figure = px.choropleth(world, locations=\"Country\", locationmode='country names' \n",
    "                       , color=\"active\",hover_name=\"Country\",range_color=[1,10000],\n",
    "                      color_continuous_scale=\"Peach\",title=\"Active Cases in World\")\n",
    "figure.show()"
   ]
  },
  {
   "cell_type": "code",
   "execution_count": 21,
   "metadata": {},
   "outputs": [],
   "source": [
    "#Calculate totals \n",
    "world_numbers = []\n",
    "total_deaths = [] \n",
    "total_recovered = [] \n",
    "recovery_rate = [] \n",
    "mortality_rate = []\n",
    "\n",
    "confirmed_sum = covid_df.Confirmed.sum()\n",
    "recovered_sum = covid_df.Recovered.sum()\n",
    "death_sum = covid_df.Deaths.sum()\n",
    "world_numbers.append(confirmed_sum)\n",
    "total_recovered.append(recovered_sum)\n",
    "total_deaths.append(death_sum)\n",
    "recovery_rate.append(recovered_sum/confirmed_sum)\n",
    "mortality_rate.append(death_sum/confirmed_sum)\n",
    "mean_mortality_rate = np.mean(mortality_rate)\n",
    "mean_recovery_rate = np.mean(recovery_rate)"
   ]
  },
  {
   "cell_type": "code",
   "execution_count": 22,
   "metadata": {},
   "outputs": [
    {
     "name": "stdout",
     "output_type": "stream",
     "text": [
      "Total Confirmed Cases= 828508482\n",
      "Total Recovered Cases= 388408229\n",
      "Total Deaths Cases= 43384903\n",
      "Total Recovery Rate(%)= 46.88041672939686\n",
      "Total Fatality Rate(%)= 5.23650680018023\n"
     ]
    }
   ],
   "source": [
    "#Print Output\n",
    "print ('Total Confirmed Cases = '+ str(confirmed_sum))\n",
    "print ('Total Recovered Cases = '+ str(recovered_sum))\n",
    "print ('Total Deaths Cases = '+ str(death_sum))\n",
    "print ('Total Recovery Rate(%) = '+ str(mean_recovery_rate*100))\n",
    "print ('Total Fatality Rate(%) = '+ str(mean_mortality_rate*100))"
   ]
  },
  {
   "cell_type": "code",
   "execution_count": 20,
   "metadata": {},
   "outputs": [
    {
     "data": {
      "text/html": [
       "<style  type=\"text/css\" >\n",
       "    #T_20d7a066_d684_11eb_9c78_9cebe81f0fcerow0_col1 {\n",
       "            background-color:  #67000d;\n",
       "            color:  #f1f1f1;\n",
       "        }    #T_20d7a066_d684_11eb_9c78_9cebe81f0fcerow0_col2 {\n",
       "            background-color:  #67000d;\n",
       "            color:  #f1f1f1;\n",
       "        }    #T_20d7a066_d684_11eb_9c78_9cebe81f0fcerow0_col3 {\n",
       "            background-color:  #d42121;\n",
       "            color:  #f1f1f1;\n",
       "        }    #T_20d7a066_d684_11eb_9c78_9cebe81f0fcerow0_col4 {\n",
       "            background-color:  #67000d;\n",
       "            color:  #f1f1f1;\n",
       "        }    #T_20d7a066_d684_11eb_9c78_9cebe81f0fcerow0_col5 {\n",
       "            background-color:  #67000d;\n",
       "            color:  #f1f1f1;\n",
       "        }    #T_20d7a066_d684_11eb_9c78_9cebe81f0fcerow1_col1 {\n",
       "            background-color:  #f5523a;\n",
       "            color:  #000000;\n",
       "        }    #T_20d7a066_d684_11eb_9c78_9cebe81f0fcerow1_col2 {\n",
       "            background-color:  #f34935;\n",
       "            color:  #000000;\n",
       "        }    #T_20d7a066_d684_11eb_9c78_9cebe81f0fcerow1_col3 {\n",
       "            background-color:  #67000d;\n",
       "            color:  #f1f1f1;\n",
       "        }    #T_20d7a066_d684_11eb_9c78_9cebe81f0fcerow1_col4 {\n",
       "            background-color:  #fdd4c2;\n",
       "            color:  #000000;\n",
       "        }    #T_20d7a066_d684_11eb_9c78_9cebe81f0fcerow1_col5 {\n",
       "            background-color:  #fdd4c2;\n",
       "            color:  #000000;\n",
       "        }    #T_20d7a066_d684_11eb_9c78_9cebe81f0fcerow2_col1 {\n",
       "            background-color:  #fc9e80;\n",
       "            color:  #000000;\n",
       "        }    #T_20d7a066_d684_11eb_9c78_9cebe81f0fcerow2_col2 {\n",
       "            background-color:  #fdc5ae;\n",
       "            color:  #000000;\n",
       "        }    #T_20d7a066_d684_11eb_9c78_9cebe81f0fcerow2_col3 {\n",
       "            background-color:  #fa6547;\n",
       "            color:  #000000;\n",
       "        }    #T_20d7a066_d684_11eb_9c78_9cebe81f0fcerow2_col4 {\n",
       "            background-color:  #fdd5c4;\n",
       "            color:  #000000;\n",
       "        }    #T_20d7a066_d684_11eb_9c78_9cebe81f0fcerow2_col5 {\n",
       "            background-color:  #fdd5c4;\n",
       "            color:  #000000;\n",
       "        }    #T_20d7a066_d684_11eb_9c78_9cebe81f0fcerow3_col1 {\n",
       "            background-color:  #ffebe2;\n",
       "            color:  #000000;\n",
       "        }    #T_20d7a066_d684_11eb_9c78_9cebe81f0fcerow3_col2 {\n",
       "            background-color:  #fcab8f;\n",
       "            color:  #000000;\n",
       "        }    #T_20d7a066_d684_11eb_9c78_9cebe81f0fcerow3_col3 {\n",
       "            background-color:  #fff5f0;\n",
       "            color:  #000000;\n",
       "        }    #T_20d7a066_d684_11eb_9c78_9cebe81f0fcerow3_col4 {\n",
       "            background-color:  #fee8de;\n",
       "            color:  #000000;\n",
       "        }    #T_20d7a066_d684_11eb_9c78_9cebe81f0fcerow3_col5 {\n",
       "            background-color:  #fee8de;\n",
       "            color:  #000000;\n",
       "        }    #T_20d7a066_d684_11eb_9c78_9cebe81f0fcerow4_col1 {\n",
       "            background-color:  #fdd0bc;\n",
       "            color:  #000000;\n",
       "        }    #T_20d7a066_d684_11eb_9c78_9cebe81f0fcerow4_col2 {\n",
       "            background-color:  #fee8de;\n",
       "            color:  #000000;\n",
       "        }    #T_20d7a066_d684_11eb_9c78_9cebe81f0fcerow4_col3 {\n",
       "            background-color:  #fca285;\n",
       "            color:  #000000;\n",
       "        }    #T_20d7a066_d684_11eb_9c78_9cebe81f0fcerow4_col4 {\n",
       "            background-color:  #ffece3;\n",
       "            color:  #000000;\n",
       "        }    #T_20d7a066_d684_11eb_9c78_9cebe81f0fcerow4_col5 {\n",
       "            background-color:  #ffece3;\n",
       "            color:  #000000;\n",
       "        }    #T_20d7a066_d684_11eb_9c78_9cebe81f0fcerow5_col1 {\n",
       "            background-color:  #fee5d9;\n",
       "            color:  #000000;\n",
       "        }    #T_20d7a066_d684_11eb_9c78_9cebe81f0fcerow5_col2 {\n",
       "            background-color:  #fff0e8;\n",
       "            color:  #000000;\n",
       "        }    #T_20d7a066_d684_11eb_9c78_9cebe81f0fcerow5_col3 {\n",
       "            background-color:  #fed9c9;\n",
       "            color:  #000000;\n",
       "        }    #T_20d7a066_d684_11eb_9c78_9cebe81f0fcerow5_col4 {\n",
       "            background-color:  #ffeee6;\n",
       "            color:  #000000;\n",
       "        }    #T_20d7a066_d684_11eb_9c78_9cebe81f0fcerow5_col5 {\n",
       "            background-color:  #ffeee6;\n",
       "            color:  #000000;\n",
       "        }    #T_20d7a066_d684_11eb_9c78_9cebe81f0fcerow6_col1 {\n",
       "            background-color:  #ffede5;\n",
       "            color:  #000000;\n",
       "        }    #T_20d7a066_d684_11eb_9c78_9cebe81f0fcerow6_col2 {\n",
       "            background-color:  #ffeee6;\n",
       "            color:  #000000;\n",
       "        }    #T_20d7a066_d684_11eb_9c78_9cebe81f0fcerow6_col3 {\n",
       "            background-color:  #fee9df;\n",
       "            color:  #000000;\n",
       "        }    #T_20d7a066_d684_11eb_9c78_9cebe81f0fcerow6_col4 {\n",
       "            background-color:  #fff1ea;\n",
       "            color:  #000000;\n",
       "        }    #T_20d7a066_d684_11eb_9c78_9cebe81f0fcerow6_col5 {\n",
       "            background-color:  #fff1ea;\n",
       "            color:  #000000;\n",
       "        }    #T_20d7a066_d684_11eb_9c78_9cebe81f0fcerow7_col1 {\n",
       "            background-color:  #ffeee7;\n",
       "            color:  #000000;\n",
       "        }    #T_20d7a066_d684_11eb_9c78_9cebe81f0fcerow7_col2 {\n",
       "            background-color:  #fdccb8;\n",
       "            color:  #000000;\n",
       "        }    #T_20d7a066_d684_11eb_9c78_9cebe81f0fcerow7_col3 {\n",
       "            background-color:  #ffeee6;\n",
       "            color:  #000000;\n",
       "        }    #T_20d7a066_d684_11eb_9c78_9cebe81f0fcerow7_col4 {\n",
       "            background-color:  #fff1ea;\n",
       "            color:  #000000;\n",
       "        }    #T_20d7a066_d684_11eb_9c78_9cebe81f0fcerow7_col5 {\n",
       "            background-color:  #fff1ea;\n",
       "            color:  #000000;\n",
       "        }    #T_20d7a066_d684_11eb_9c78_9cebe81f0fcerow8_col1 {\n",
       "            background-color:  #fff3ed;\n",
       "            color:  #000000;\n",
       "        }    #T_20d7a066_d684_11eb_9c78_9cebe81f0fcerow8_col2 {\n",
       "            background-color:  #ffede5;\n",
       "            color:  #000000;\n",
       "        }    #T_20d7a066_d684_11eb_9c78_9cebe81f0fcerow8_col3 {\n",
       "            background-color:  #fff5f0;\n",
       "            color:  #000000;\n",
       "        }    #T_20d7a066_d684_11eb_9c78_9cebe81f0fcerow8_col4 {\n",
       "            background-color:  #fff2eb;\n",
       "            color:  #000000;\n",
       "        }    #T_20d7a066_d684_11eb_9c78_9cebe81f0fcerow8_col5 {\n",
       "            background-color:  #fff2eb;\n",
       "            color:  #000000;\n",
       "        }    #T_20d7a066_d684_11eb_9c78_9cebe81f0fcerow9_col1 {\n",
       "            background-color:  #fee8dd;\n",
       "            color:  #000000;\n",
       "        }    #T_20d7a066_d684_11eb_9c78_9cebe81f0fcerow9_col2 {\n",
       "            background-color:  #fee3d6;\n",
       "            color:  #000000;\n",
       "        }    #T_20d7a066_d684_11eb_9c78_9cebe81f0fcerow9_col3 {\n",
       "            background-color:  #fedaca;\n",
       "            color:  #000000;\n",
       "        }    #T_20d7a066_d684_11eb_9c78_9cebe81f0fcerow9_col4 {\n",
       "            background-color:  #fff2eb;\n",
       "            color:  #000000;\n",
       "        }    #T_20d7a066_d684_11eb_9c78_9cebe81f0fcerow9_col5 {\n",
       "            background-color:  #fff2eb;\n",
       "            color:  #000000;\n",
       "        }    #T_20d7a066_d684_11eb_9c78_9cebe81f0fcerow10_col1 {\n",
       "            background-color:  #ffeee7;\n",
       "            color:  #000000;\n",
       "        }    #T_20d7a066_d684_11eb_9c78_9cebe81f0fcerow10_col2 {\n",
       "            background-color:  #fff4ef;\n",
       "            color:  #000000;\n",
       "        }    #T_20d7a066_d684_11eb_9c78_9cebe81f0fcerow10_col3 {\n",
       "            background-color:  #feeae0;\n",
       "            color:  #000000;\n",
       "        }    #T_20d7a066_d684_11eb_9c78_9cebe81f0fcerow10_col4 {\n",
       "            background-color:  #fff2eb;\n",
       "            color:  #000000;\n",
       "        }    #T_20d7a066_d684_11eb_9c78_9cebe81f0fcerow10_col5 {\n",
       "            background-color:  #fff2eb;\n",
       "            color:  #000000;\n",
       "        }    #T_20d7a066_d684_11eb_9c78_9cebe81f0fcerow11_col1 {\n",
       "            background-color:  #ffece4;\n",
       "            color:  #000000;\n",
       "        }    #T_20d7a066_d684_11eb_9c78_9cebe81f0fcerow11_col2 {\n",
       "            background-color:  #fdd0bc;\n",
       "            color:  #000000;\n",
       "        }    #T_20d7a066_d684_11eb_9c78_9cebe81f0fcerow11_col3 {\n",
       "            background-color:  #fee8dd;\n",
       "            color:  #000000;\n",
       "        }    #T_20d7a066_d684_11eb_9c78_9cebe81f0fcerow11_col4 {\n",
       "            background-color:  #fff2ec;\n",
       "            color:  #000000;\n",
       "        }    #T_20d7a066_d684_11eb_9c78_9cebe81f0fcerow11_col5 {\n",
       "            background-color:  #fff2ec;\n",
       "            color:  #000000;\n",
       "        }    #T_20d7a066_d684_11eb_9c78_9cebe81f0fcerow12_col1 {\n",
       "            background-color:  #fff1ea;\n",
       "            color:  #000000;\n",
       "        }    #T_20d7a066_d684_11eb_9c78_9cebe81f0fcerow12_col2 {\n",
       "            background-color:  #fff4ef;\n",
       "            color:  #000000;\n",
       "        }    #T_20d7a066_d684_11eb_9c78_9cebe81f0fcerow12_col3 {\n",
       "            background-color:  #ffeee7;\n",
       "            color:  #000000;\n",
       "        }    #T_20d7a066_d684_11eb_9c78_9cebe81f0fcerow12_col4 {\n",
       "            background-color:  #fff2ec;\n",
       "            color:  #000000;\n",
       "        }    #T_20d7a066_d684_11eb_9c78_9cebe81f0fcerow12_col5 {\n",
       "            background-color:  #fff2ec;\n",
       "            color:  #000000;\n",
       "        }    #T_20d7a066_d684_11eb_9c78_9cebe81f0fcerow13_col1 {\n",
       "            background-color:  #fff4ef;\n",
       "            color:  #000000;\n",
       "        }    #T_20d7a066_d684_11eb_9c78_9cebe81f0fcerow13_col2 {\n",
       "            background-color:  #fff1ea;\n",
       "            color:  #000000;\n",
       "        }    #T_20d7a066_d684_11eb_9c78_9cebe81f0fcerow13_col3 {\n",
       "            background-color:  #fff5f0;\n",
       "            color:  #000000;\n",
       "        }    #T_20d7a066_d684_11eb_9c78_9cebe81f0fcerow13_col4 {\n",
       "            background-color:  #fff4ee;\n",
       "            color:  #000000;\n",
       "        }    #T_20d7a066_d684_11eb_9c78_9cebe81f0fcerow13_col5 {\n",
       "            background-color:  #fff4ee;\n",
       "            color:  #000000;\n",
       "        }    #T_20d7a066_d684_11eb_9c78_9cebe81f0fcerow14_col1 {\n",
       "            background-color:  #fff4ef;\n",
       "            color:  #000000;\n",
       "        }    #T_20d7a066_d684_11eb_9c78_9cebe81f0fcerow14_col2 {\n",
       "            background-color:  #fff5f0;\n",
       "            color:  #000000;\n",
       "        }    #T_20d7a066_d684_11eb_9c78_9cebe81f0fcerow14_col3 {\n",
       "            background-color:  #fff3ed;\n",
       "            color:  #000000;\n",
       "        }    #T_20d7a066_d684_11eb_9c78_9cebe81f0fcerow14_col4 {\n",
       "            background-color:  #fff5f0;\n",
       "            color:  #000000;\n",
       "        }    #T_20d7a066_d684_11eb_9c78_9cebe81f0fcerow14_col5 {\n",
       "            background-color:  #fff5f0;\n",
       "            color:  #000000;\n",
       "        }    #T_20d7a066_d684_11eb_9c78_9cebe81f0fcerow15_col1 {\n",
       "            background-color:  #fff4ee;\n",
       "            color:  #000000;\n",
       "        }    #T_20d7a066_d684_11eb_9c78_9cebe81f0fcerow15_col2 {\n",
       "            background-color:  #fff2ec;\n",
       "            color:  #000000;\n",
       "        }    #T_20d7a066_d684_11eb_9c78_9cebe81f0fcerow15_col3 {\n",
       "            background-color:  #fff2ec;\n",
       "            color:  #000000;\n",
       "        }    #T_20d7a066_d684_11eb_9c78_9cebe81f0fcerow15_col4 {\n",
       "            background-color:  #fff5f0;\n",
       "            color:  #000000;\n",
       "        }    #T_20d7a066_d684_11eb_9c78_9cebe81f0fcerow15_col5 {\n",
       "            background-color:  #fff5f0;\n",
       "            color:  #000000;\n",
       "        }    #T_20d7a066_d684_11eb_9c78_9cebe81f0fcerow16_col1 {\n",
       "            background-color:  #fee8dd;\n",
       "            color:  #000000;\n",
       "        }    #T_20d7a066_d684_11eb_9c78_9cebe81f0fcerow16_col2 {\n",
       "            background-color:  #fcaf93;\n",
       "            color:  #000000;\n",
       "        }    #T_20d7a066_d684_11eb_9c78_9cebe81f0fcerow16_col3 {\n",
       "            background-color:  #fdd4c2;\n",
       "            color:  #000000;\n",
       "        }    #T_20d7a066_d684_11eb_9c78_9cebe81f0fcerow16_col4 {\n",
       "            background-color:  #fff5f0;\n",
       "            color:  #000000;\n",
       "        }    #T_20d7a066_d684_11eb_9c78_9cebe81f0fcerow16_col5 {\n",
       "            background-color:  #fff5f0;\n",
       "            color:  #000000;\n",
       "        }    #T_20d7a066_d684_11eb_9c78_9cebe81f0fcerow17_col1 {\n",
       "            background-color:  #fff5f0;\n",
       "            color:  #000000;\n",
       "        }    #T_20d7a066_d684_11eb_9c78_9cebe81f0fcerow17_col2 {\n",
       "            background-color:  #fff0e9;\n",
       "            color:  #000000;\n",
       "        }    #T_20d7a066_d684_11eb_9c78_9cebe81f0fcerow17_col3 {\n",
       "            background-color:  #fff5f0;\n",
       "            color:  #000000;\n",
       "        }    #T_20d7a066_d684_11eb_9c78_9cebe81f0fcerow17_col4 {\n",
       "            background-color:  #fff5f0;\n",
       "            color:  #000000;\n",
       "        }    #T_20d7a066_d684_11eb_9c78_9cebe81f0fcerow17_col5 {\n",
       "            background-color:  #fff5f0;\n",
       "            color:  #000000;\n",
       "        }    #T_20d7a066_d684_11eb_9c78_9cebe81f0fcerow18_col1 {\n",
       "            background-color:  #fff4ef;\n",
       "            color:  #000000;\n",
       "        }    #T_20d7a066_d684_11eb_9c78_9cebe81f0fcerow18_col2 {\n",
       "            background-color:  #fff4ef;\n",
       "            color:  #000000;\n",
       "        }    #T_20d7a066_d684_11eb_9c78_9cebe81f0fcerow18_col3 {\n",
       "            background-color:  #fff4ee;\n",
       "            color:  #000000;\n",
       "        }    #T_20d7a066_d684_11eb_9c78_9cebe81f0fcerow18_col4 {\n",
       "            background-color:  #fff5f0;\n",
       "            color:  #000000;\n",
       "        }    #T_20d7a066_d684_11eb_9c78_9cebe81f0fcerow18_col5 {\n",
       "            background-color:  #fff5f0;\n",
       "            color:  #000000;\n",
       "        }    #T_20d7a066_d684_11eb_9c78_9cebe81f0fcerow19_col1 {\n",
       "            background-color:  #ffece4;\n",
       "            color:  #000000;\n",
       "        }    #T_20d7a066_d684_11eb_9c78_9cebe81f0fcerow19_col2 {\n",
       "            background-color:  #fff4ef;\n",
       "            color:  #000000;\n",
       "        }    #T_20d7a066_d684_11eb_9c78_9cebe81f0fcerow19_col3 {\n",
       "            background-color:  #fee1d4;\n",
       "            color:  #000000;\n",
       "        }    #T_20d7a066_d684_11eb_9c78_9cebe81f0fcerow19_col4 {\n",
       "            background-color:  #fff5f0;\n",
       "            color:  #000000;\n",
       "        }    #T_20d7a066_d684_11eb_9c78_9cebe81f0fcerow19_col5 {\n",
       "            background-color:  #fff5f0;\n",
       "            color:  #000000;\n",
       "        }</style><table id=\"T_20d7a066_d684_11eb_9c78_9cebe81f0fce\" ><thead>    <tr>        <th class=\"blank level0\" ></th>        <th class=\"col_heading level0 col0\" >Country</th>        <th class=\"col_heading level0 col1\" >Confirmed</th>        <th class=\"col_heading level0 col2\" >Deaths</th>        <th class=\"col_heading level0 col3\" >Recovered</th>        <th class=\"col_heading level0 col4\" >Active</th>        <th class=\"col_heading level0 col5\" >active</th>    </tr></thead><tbody>\n",
       "                <tr>\n",
       "                        <th id=\"T_20d7a066_d684_11eb_9c78_9cebe81f0fcelevel0_row0\" class=\"row_heading level0 row0\" >0</th>\n",
       "                        <td id=\"T_20d7a066_d684_11eb_9c78_9cebe81f0fcerow0_col0\" class=\"data row0 col0\" >US</td>\n",
       "                        <td id=\"T_20d7a066_d684_11eb_9c78_9cebe81f0fcerow0_col1\" class=\"data row0 col1\" >4290259</td>\n",
       "                        <td id=\"T_20d7a066_d684_11eb_9c78_9cebe81f0fcerow0_col2\" class=\"data row0 col2\" >148011</td>\n",
       "                        <td id=\"T_20d7a066_d684_11eb_9c78_9cebe81f0fcerow0_col3\" class=\"data row0 col3\" >1325804</td>\n",
       "                        <td id=\"T_20d7a066_d684_11eb_9c78_9cebe81f0fcerow0_col4\" class=\"data row0 col4\" >2816444</td>\n",
       "                        <td id=\"T_20d7a066_d684_11eb_9c78_9cebe81f0fcerow0_col5\" class=\"data row0 col5\" >2816444</td>\n",
       "            </tr>\n",
       "            <tr>\n",
       "                        <th id=\"T_20d7a066_d684_11eb_9c78_9cebe81f0fcelevel0_row1\" class=\"row_heading level0 row1\" >1</th>\n",
       "                        <td id=\"T_20d7a066_d684_11eb_9c78_9cebe81f0fcerow1_col0\" class=\"data row1 col0\" >Brazil</td>\n",
       "                        <td id=\"T_20d7a066_d684_11eb_9c78_9cebe81f0fcerow1_col1\" class=\"data row1 col1\" >2442375</td>\n",
       "                        <td id=\"T_20d7a066_d684_11eb_9c78_9cebe81f0fcerow1_col2\" class=\"data row1 col2\" >87618</td>\n",
       "                        <td id=\"T_20d7a066_d684_11eb_9c78_9cebe81f0fcerow1_col3\" class=\"data row1 col3\" >1846641</td>\n",
       "                        <td id=\"T_20d7a066_d684_11eb_9c78_9cebe81f0fcerow1_col4\" class=\"data row1 col4\" >508116</td>\n",
       "                        <td id=\"T_20d7a066_d684_11eb_9c78_9cebe81f0fcerow1_col5\" class=\"data row1 col5\" >508116</td>\n",
       "            </tr>\n",
       "            <tr>\n",
       "                        <th id=\"T_20d7a066_d684_11eb_9c78_9cebe81f0fcelevel0_row2\" class=\"row_heading level0 row2\" >2</th>\n",
       "                        <td id=\"T_20d7a066_d684_11eb_9c78_9cebe81f0fcerow2_col0\" class=\"data row2 col0\" >India</td>\n",
       "                        <td id=\"T_20d7a066_d684_11eb_9c78_9cebe81f0fcerow2_col1\" class=\"data row2 col1\" >1480073</td>\n",
       "                        <td id=\"T_20d7a066_d684_11eb_9c78_9cebe81f0fcerow2_col2\" class=\"data row2 col2\" >33408</td>\n",
       "                        <td id=\"T_20d7a066_d684_11eb_9c78_9cebe81f0fcerow2_col3\" class=\"data row2 col3\" >951166</td>\n",
       "                        <td id=\"T_20d7a066_d684_11eb_9c78_9cebe81f0fcerow2_col4\" class=\"data row2 col4\" >495499</td>\n",
       "                        <td id=\"T_20d7a066_d684_11eb_9c78_9cebe81f0fcerow2_col5\" class=\"data row2 col5\" >495499</td>\n",
       "            </tr>\n",
       "            <tr>\n",
       "                        <th id=\"T_20d7a066_d684_11eb_9c78_9cebe81f0fcelevel0_row3\" class=\"row_heading level0 row3\" >3</th>\n",
       "                        <td id=\"T_20d7a066_d684_11eb_9c78_9cebe81f0fcerow3_col0\" class=\"data row3 col0\" >United Kingdom</td>\n",
       "                        <td id=\"T_20d7a066_d684_11eb_9c78_9cebe81f0fcerow3_col1\" class=\"data row3 col1\" >301708</td>\n",
       "                        <td id=\"T_20d7a066_d684_11eb_9c78_9cebe81f0fcerow3_col2\" class=\"data row3 col2\" >45844</td>\n",
       "                        <td id=\"T_20d7a066_d684_11eb_9c78_9cebe81f0fcerow3_col3\" class=\"data row3 col3\" >1437</td>\n",
       "                        <td id=\"T_20d7a066_d684_11eb_9c78_9cebe81f0fcerow3_col4\" class=\"data row3 col4\" >254427</td>\n",
       "                        <td id=\"T_20d7a066_d684_11eb_9c78_9cebe81f0fcerow3_col5\" class=\"data row3 col5\" >254427</td>\n",
       "            </tr>\n",
       "            <tr>\n",
       "                        <th id=\"T_20d7a066_d684_11eb_9c78_9cebe81f0fcelevel0_row4\" class=\"row_heading level0 row4\" >4</th>\n",
       "                        <td id=\"T_20d7a066_d684_11eb_9c78_9cebe81f0fcerow4_col0\" class=\"data row4 col0\" >Russia</td>\n",
       "                        <td id=\"T_20d7a066_d684_11eb_9c78_9cebe81f0fcerow4_col1\" class=\"data row4 col1\" >816680</td>\n",
       "                        <td id=\"T_20d7a066_d684_11eb_9c78_9cebe81f0fcerow4_col2\" class=\"data row4 col2\" >13334</td>\n",
       "                        <td id=\"T_20d7a066_d684_11eb_9c78_9cebe81f0fcerow4_col3\" class=\"data row4 col3\" >602249</td>\n",
       "                        <td id=\"T_20d7a066_d684_11eb_9c78_9cebe81f0fcerow4_col4\" class=\"data row4 col4\" >201097</td>\n",
       "                        <td id=\"T_20d7a066_d684_11eb_9c78_9cebe81f0fcerow4_col5\" class=\"data row4 col5\" >201097</td>\n",
       "            </tr>\n",
       "            <tr>\n",
       "                        <th id=\"T_20d7a066_d684_11eb_9c78_9cebe81f0fcelevel0_row5\" class=\"row_heading level0 row5\" >5</th>\n",
       "                        <td id=\"T_20d7a066_d684_11eb_9c78_9cebe81f0fcerow5_col0\" class=\"data row5 col0\" >South Africa</td>\n",
       "                        <td id=\"T_20d7a066_d684_11eb_9c78_9cebe81f0fcerow5_col1\" class=\"data row5 col1\" >452529</td>\n",
       "                        <td id=\"T_20d7a066_d684_11eb_9c78_9cebe81f0fcerow5_col2\" class=\"data row5 col2\" >7067</td>\n",
       "                        <td id=\"T_20d7a066_d684_11eb_9c78_9cebe81f0fcerow5_col3\" class=\"data row5 col3\" >274925</td>\n",
       "                        <td id=\"T_20d7a066_d684_11eb_9c78_9cebe81f0fcerow5_col4\" class=\"data row5 col4\" >170537</td>\n",
       "                        <td id=\"T_20d7a066_d684_11eb_9c78_9cebe81f0fcerow5_col5\" class=\"data row5 col5\" >170537</td>\n",
       "            </tr>\n",
       "            <tr>\n",
       "                        <th id=\"T_20d7a066_d684_11eb_9c78_9cebe81f0fcelevel0_row6\" class=\"row_heading level0 row6\" >6</th>\n",
       "                        <td id=\"T_20d7a066_d684_11eb_9c78_9cebe81f0fcerow6_col0\" class=\"data row6 col0\" >Colombia</td>\n",
       "                        <td id=\"T_20d7a066_d684_11eb_9c78_9cebe81f0fcerow6_col1\" class=\"data row6 col1\" >257101</td>\n",
       "                        <td id=\"T_20d7a066_d684_11eb_9c78_9cebe81f0fcerow6_col2\" class=\"data row6 col2\" >8777</td>\n",
       "                        <td id=\"T_20d7a066_d684_11eb_9c78_9cebe81f0fcerow6_col3\" class=\"data row6 col3\" >131161</td>\n",
       "                        <td id=\"T_20d7a066_d684_11eb_9c78_9cebe81f0fcerow6_col4\" class=\"data row6 col4\" >117163</td>\n",
       "                        <td id=\"T_20d7a066_d684_11eb_9c78_9cebe81f0fcerow6_col5\" class=\"data row6 col5\" >117163</td>\n",
       "            </tr>\n",
       "            <tr>\n",
       "                        <th id=\"T_20d7a066_d684_11eb_9c78_9cebe81f0fcelevel0_row7\" class=\"row_heading level0 row7\" >7</th>\n",
       "                        <td id=\"T_20d7a066_d684_11eb_9c78_9cebe81f0fcerow7_col0\" class=\"data row7 col0\" >France</td>\n",
       "                        <td id=\"T_20d7a066_d684_11eb_9c78_9cebe81f0fcerow7_col1\" class=\"data row7 col1\" >220352</td>\n",
       "                        <td id=\"T_20d7a066_d684_11eb_9c78_9cebe81f0fcerow7_col2\" class=\"data row7 col2\" >30212</td>\n",
       "                        <td id=\"T_20d7a066_d684_11eb_9c78_9cebe81f0fcerow7_col3\" class=\"data row7 col3\" >81212</td>\n",
       "                        <td id=\"T_20d7a066_d684_11eb_9c78_9cebe81f0fcerow7_col4\" class=\"data row7 col4\" >108928</td>\n",
       "                        <td id=\"T_20d7a066_d684_11eb_9c78_9cebe81f0fcerow7_col5\" class=\"data row7 col5\" >108928</td>\n",
       "            </tr>\n",
       "            <tr>\n",
       "                        <th id=\"T_20d7a066_d684_11eb_9c78_9cebe81f0fcelevel0_row8\" class=\"row_heading level0 row8\" >8</th>\n",
       "                        <td id=\"T_20d7a066_d684_11eb_9c78_9cebe81f0fcerow8_col0\" class=\"data row8 col0\" >Canada</td>\n",
       "                        <td id=\"T_20d7a066_d684_11eb_9c78_9cebe81f0fcerow8_col1\" class=\"data row8 col1\" >116458</td>\n",
       "                        <td id=\"T_20d7a066_d684_11eb_9c78_9cebe81f0fcerow8_col2\" class=\"data row8 col2\" >8944</td>\n",
       "                        <td id=\"T_20d7a066_d684_11eb_9c78_9cebe81f0fcerow8_col3\" class=\"data row8 col3\" >0</td>\n",
       "                        <td id=\"T_20d7a066_d684_11eb_9c78_9cebe81f0fcerow8_col4\" class=\"data row8 col4\" >107514</td>\n",
       "                        <td id=\"T_20d7a066_d684_11eb_9c78_9cebe81f0fcerow8_col5\" class=\"data row8 col5\" >107514</td>\n",
       "            </tr>\n",
       "            <tr>\n",
       "                        <th id=\"T_20d7a066_d684_11eb_9c78_9cebe81f0fcelevel0_row9\" class=\"row_heading level0 row9\" >9</th>\n",
       "                        <td id=\"T_20d7a066_d684_11eb_9c78_9cebe81f0fcerow9_col0\" class=\"data row9 col0\" >Peru</td>\n",
       "                        <td id=\"T_20d7a066_d684_11eb_9c78_9cebe81f0fcerow9_col1\" class=\"data row9 col1\" >389717</td>\n",
       "                        <td id=\"T_20d7a066_d684_11eb_9c78_9cebe81f0fcerow9_col2\" class=\"data row9 col2\" >18418</td>\n",
       "                        <td id=\"T_20d7a066_d684_11eb_9c78_9cebe81f0fcerow9_col3\" class=\"data row9 col3\" >272547</td>\n",
       "                        <td id=\"T_20d7a066_d684_11eb_9c78_9cebe81f0fcerow9_col4\" class=\"data row9 col4\" >98752</td>\n",
       "                        <td id=\"T_20d7a066_d684_11eb_9c78_9cebe81f0fcerow9_col5\" class=\"data row9 col5\" >98752</td>\n",
       "            </tr>\n",
       "            <tr>\n",
       "                        <th id=\"T_20d7a066_d684_11eb_9c78_9cebe81f0fcelevel0_row10\" class=\"row_heading level0 row10\" >10</th>\n",
       "                        <td id=\"T_20d7a066_d684_11eb_9c78_9cebe81f0fcerow10_col0\" class=\"data row10 col0\" >Bangladesh</td>\n",
       "                        <td id=\"T_20d7a066_d684_11eb_9c78_9cebe81f0fcerow10_col1\" class=\"data row10 col1\" >226225</td>\n",
       "                        <td id=\"T_20d7a066_d684_11eb_9c78_9cebe81f0fcerow10_col2\" class=\"data row10 col2\" >2965</td>\n",
       "                        <td id=\"T_20d7a066_d684_11eb_9c78_9cebe81f0fcerow10_col3\" class=\"data row10 col3\" >125683</td>\n",
       "                        <td id=\"T_20d7a066_d684_11eb_9c78_9cebe81f0fcerow10_col4\" class=\"data row10 col4\" >97577</td>\n",
       "                        <td id=\"T_20d7a066_d684_11eb_9c78_9cebe81f0fcerow10_col5\" class=\"data row10 col5\" >97577</td>\n",
       "            </tr>\n",
       "            <tr>\n",
       "                        <th id=\"T_20d7a066_d684_11eb_9c78_9cebe81f0fcelevel0_row11\" class=\"row_heading level0 row11\" >11</th>\n",
       "                        <td id=\"T_20d7a066_d684_11eb_9c78_9cebe81f0fcerow11_col0\" class=\"data row11 col0\" >Spain</td>\n",
       "                        <td id=\"T_20d7a066_d684_11eb_9c78_9cebe81f0fcerow11_col1\" class=\"data row11 col1\" >272421</td>\n",
       "                        <td id=\"T_20d7a066_d684_11eb_9c78_9cebe81f0fcerow11_col2\" class=\"data row11 col2\" >28432</td>\n",
       "                        <td id=\"T_20d7a066_d684_11eb_9c78_9cebe81f0fcerow11_col3\" class=\"data row11 col3\" >150376</td>\n",
       "                        <td id=\"T_20d7a066_d684_11eb_9c78_9cebe81f0fcerow11_col4\" class=\"data row11 col4\" >93613</td>\n",
       "                        <td id=\"T_20d7a066_d684_11eb_9c78_9cebe81f0fcerow11_col5\" class=\"data row11 col5\" >93613</td>\n",
       "            </tr>\n",
       "            <tr>\n",
       "                        <th id=\"T_20d7a066_d684_11eb_9c78_9cebe81f0fcelevel0_row12\" class=\"row_heading level0 row12\" >12</th>\n",
       "                        <td id=\"T_20d7a066_d684_11eb_9c78_9cebe81f0fcerow12_col0\" class=\"data row12 col0\" >Argentina</td>\n",
       "                        <td id=\"T_20d7a066_d684_11eb_9c78_9cebe81f0fcerow12_col1\" class=\"data row12 col1\" >167416</td>\n",
       "                        <td id=\"T_20d7a066_d684_11eb_9c78_9cebe81f0fcerow12_col2\" class=\"data row12 col2\" >3059</td>\n",
       "                        <td id=\"T_20d7a066_d684_11eb_9c78_9cebe81f0fcerow12_col3\" class=\"data row12 col3\" >72575</td>\n",
       "                        <td id=\"T_20d7a066_d684_11eb_9c78_9cebe81f0fcerow12_col4\" class=\"data row12 col4\" >91782</td>\n",
       "                        <td id=\"T_20d7a066_d684_11eb_9c78_9cebe81f0fcerow12_col5\" class=\"data row12 col5\" >91782</td>\n",
       "            </tr>\n",
       "            <tr>\n",
       "                        <th id=\"T_20d7a066_d684_11eb_9c78_9cebe81f0fcelevel0_row13\" class=\"row_heading level0 row13\" >13</th>\n",
       "                        <td id=\"T_20d7a066_d684_11eb_9c78_9cebe81f0fcerow13_col0\" class=\"data row13 col0\" >Sweden</td>\n",
       "                        <td id=\"T_20d7a066_d684_11eb_9c78_9cebe81f0fcerow13_col1\" class=\"data row13 col1\" >79395</td>\n",
       "                        <td id=\"T_20d7a066_d684_11eb_9c78_9cebe81f0fcerow13_col2\" class=\"data row13 col2\" >5700</td>\n",
       "                        <td id=\"T_20d7a066_d684_11eb_9c78_9cebe81f0fcerow13_col3\" class=\"data row13 col3\" >0</td>\n",
       "                        <td id=\"T_20d7a066_d684_11eb_9c78_9cebe81f0fcerow13_col4\" class=\"data row13 col4\" >73695</td>\n",
       "                        <td id=\"T_20d7a066_d684_11eb_9c78_9cebe81f0fcerow13_col5\" class=\"data row13 col5\" >73695</td>\n",
       "            </tr>\n",
       "            <tr>\n",
       "                        <th id=\"T_20d7a066_d684_11eb_9c78_9cebe81f0fcelevel0_row14\" class=\"row_heading level0 row14\" >14</th>\n",
       "                        <td id=\"T_20d7a066_d684_11eb_9c78_9cebe81f0fcerow14_col0\" class=\"data row14 col0\" >Philippines</td>\n",
       "                        <td id=\"T_20d7a066_d684_11eb_9c78_9cebe81f0fcerow14_col1\" class=\"data row14 col1\" >82040</td>\n",
       "                        <td id=\"T_20d7a066_d684_11eb_9c78_9cebe81f0fcerow14_col2\" class=\"data row14 col2\" >1945</td>\n",
       "                        <td id=\"T_20d7a066_d684_11eb_9c78_9cebe81f0fcerow14_col3\" class=\"data row14 col3\" >26446</td>\n",
       "                        <td id=\"T_20d7a066_d684_11eb_9c78_9cebe81f0fcerow14_col4\" class=\"data row14 col4\" >53649</td>\n",
       "                        <td id=\"T_20d7a066_d684_11eb_9c78_9cebe81f0fcerow14_col5\" class=\"data row14 col5\" >53649</td>\n",
       "            </tr>\n",
       "            <tr>\n",
       "                        <th id=\"T_20d7a066_d684_11eb_9c78_9cebe81f0fcelevel0_row15\" class=\"row_heading level0 row15\" >15</th>\n",
       "                        <td id=\"T_20d7a066_d684_11eb_9c78_9cebe81f0fcerow15_col0\" class=\"data row15 col0\" >Egypt</td>\n",
       "                        <td id=\"T_20d7a066_d684_11eb_9c78_9cebe81f0fcerow15_col1\" class=\"data row15 col1\" >92482</td>\n",
       "                        <td id=\"T_20d7a066_d684_11eb_9c78_9cebe81f0fcerow15_col2\" class=\"data row15 col2\" >4652</td>\n",
       "                        <td id=\"T_20d7a066_d684_11eb_9c78_9cebe81f0fcerow15_col3\" class=\"data row15 col3\" >34838</td>\n",
       "                        <td id=\"T_20d7a066_d684_11eb_9c78_9cebe81f0fcerow15_col4\" class=\"data row15 col4\" >52992</td>\n",
       "                        <td id=\"T_20d7a066_d684_11eb_9c78_9cebe81f0fcerow15_col5\" class=\"data row15 col5\" >52992</td>\n",
       "            </tr>\n",
       "            <tr>\n",
       "                        <th id=\"T_20d7a066_d684_11eb_9c78_9cebe81f0fcelevel0_row16\" class=\"row_heading level0 row16\" >16</th>\n",
       "                        <td id=\"T_20d7a066_d684_11eb_9c78_9cebe81f0fcerow16_col0\" class=\"data row16 col0\" >Mexico</td>\n",
       "                        <td id=\"T_20d7a066_d684_11eb_9c78_9cebe81f0fcerow16_col1\" class=\"data row16 col1\" >395489</td>\n",
       "                        <td id=\"T_20d7a066_d684_11eb_9c78_9cebe81f0fcerow16_col2\" class=\"data row16 col2\" >44022</td>\n",
       "                        <td id=\"T_20d7a066_d684_11eb_9c78_9cebe81f0fcerow16_col3\" class=\"data row16 col3\" >303810</td>\n",
       "                        <td id=\"T_20d7a066_d684_11eb_9c78_9cebe81f0fcerow16_col4\" class=\"data row16 col4\" >47657</td>\n",
       "                        <td id=\"T_20d7a066_d684_11eb_9c78_9cebe81f0fcerow16_col5\" class=\"data row16 col5\" >47657</td>\n",
       "            </tr>\n",
       "            <tr>\n",
       "                        <th id=\"T_20d7a066_d684_11eb_9c78_9cebe81f0fcelevel0_row17\" class=\"row_heading level0 row17\" >17</th>\n",
       "                        <td id=\"T_20d7a066_d684_11eb_9c78_9cebe81f0fcerow17_col0\" class=\"data row17 col0\" >Netherlands</td>\n",
       "                        <td id=\"T_20d7a066_d684_11eb_9c78_9cebe81f0fcerow17_col1\" class=\"data row17 col1\" >53413</td>\n",
       "                        <td id=\"T_20d7a066_d684_11eb_9c78_9cebe81f0fcerow17_col2\" class=\"data row17 col2\" >6160</td>\n",
       "                        <td id=\"T_20d7a066_d684_11eb_9c78_9cebe81f0fcerow17_col3\" class=\"data row17 col3\" >189</td>\n",
       "                        <td id=\"T_20d7a066_d684_11eb_9c78_9cebe81f0fcerow17_col4\" class=\"data row17 col4\" >47064</td>\n",
       "                        <td id=\"T_20d7a066_d684_11eb_9c78_9cebe81f0fcerow17_col5\" class=\"data row17 col5\" >47064</td>\n",
       "            </tr>\n",
       "            <tr>\n",
       "                        <th id=\"T_20d7a066_d684_11eb_9c78_9cebe81f0fcelevel0_row18\" class=\"row_heading level0 row18\" >18</th>\n",
       "                        <td id=\"T_20d7a066_d684_11eb_9c78_9cebe81f0fcerow18_col0\" class=\"data row18 col0\" >Bolivia</td>\n",
       "                        <td id=\"T_20d7a066_d684_11eb_9c78_9cebe81f0fcerow18_col1\" class=\"data row18 col1\" >71181</td>\n",
       "                        <td id=\"T_20d7a066_d684_11eb_9c78_9cebe81f0fcerow18_col2\" class=\"data row18 col2\" >2647</td>\n",
       "                        <td id=\"T_20d7a066_d684_11eb_9c78_9cebe81f0fcerow18_col3\" class=\"data row18 col3\" >21478</td>\n",
       "                        <td id=\"T_20d7a066_d684_11eb_9c78_9cebe81f0fcerow18_col4\" class=\"data row18 col4\" >47056</td>\n",
       "                        <td id=\"T_20d7a066_d684_11eb_9c78_9cebe81f0fcerow18_col5\" class=\"data row18 col5\" >47056</td>\n",
       "            </tr>\n",
       "            <tr>\n",
       "                        <th id=\"T_20d7a066_d684_11eb_9c78_9cebe81f0fcelevel0_row19\" class=\"row_heading level0 row19\" >19</th>\n",
       "                        <td id=\"T_20d7a066_d684_11eb_9c78_9cebe81f0fcerow19_col0\" class=\"data row19 col0\" >Saudi Arabia</td>\n",
       "                        <td id=\"T_20d7a066_d684_11eb_9c78_9cebe81f0fcerow19_col1\" class=\"data row19 col1\" >268934</td>\n",
       "                        <td id=\"T_20d7a066_d684_11eb_9c78_9cebe81f0fcerow19_col2\" class=\"data row19 col2\" >2760</td>\n",
       "                        <td id=\"T_20d7a066_d684_11eb_9c78_9cebe81f0fcerow19_col3\" class=\"data row19 col3\" >222936</td>\n",
       "                        <td id=\"T_20d7a066_d684_11eb_9c78_9cebe81f0fcerow19_col4\" class=\"data row19 col4\" >43238</td>\n",
       "                        <td id=\"T_20d7a066_d684_11eb_9c78_9cebe81f0fcerow19_col5\" class=\"data row19 col5\" >43238</td>\n",
       "            </tr>\n",
       "    </tbody></table>"
      ],
      "text/plain": [
       "<pandas.io.formats.style.Styler at 0x186001e5780>"
      ]
     },
     "execution_count": 20,
     "metadata": {},
     "output_type": "execute_result"
    }
   ],
   "source": [
    "#Group by top 20 Countries and status of COVID infections \n",
    "top = top.groupby('Country').sum()\n",
    "top_active = top.sort_values('active', ascending=False).reset_index()\n",
    "top_active.head(20).style.background_gradient(cmap='Reds')"
   ]
  },
  {
   "cell_type": "code",
   "execution_count": null,
   "metadata": {},
   "outputs": [],
   "source": []
  },
  {
   "cell_type": "code",
   "execution_count": 24,
   "metadata": {},
   "outputs": [
    {
     "data": {
      "text/plain": [
       "array(['co', 'pm10', 'o3', 'so2', 'no2', 'pm25', 'psi', 'uvi', 'neph',\n",
       "       'aqi', 'mepaqi', 'pol', 'temperature', 'humidity', 'pressure',\n",
       "       'wd', 'wind-speed', 'd', 'pm1', 'wind-gust', 'precipitation',\n",
       "       'dew', 'wind speed', 'wind gust'], dtype=object)"
      ]
     },
     "execution_count": 24,
     "metadata": {},
     "output_type": "execute_result"
    }
   ],
   "source": [
    "# Display an overview of the Specie column\n",
    "master_df[\"Specie\"].unique()"
   ]
  },
  {
   "cell_type": "code",
   "execution_count": 25,
   "metadata": {},
   "outputs": [
    {
     "data": {
      "text/plain": [
       "no2              565392\n",
       "pm25             552899\n",
       "pm10             547363\n",
       "o3               541019\n",
       "so2              469871\n",
       "co               429370\n",
       "temperature      338991\n",
       "humidity         338874\n",
       "pressure         336973\n",
       "wind-speed       327923\n",
       "dew              230768\n",
       "wind-gust        214730\n",
       "wd                30465\n",
       "precipitation     30222\n",
       "aqi               19417\n",
       "uvi               14001\n",
       "wind speed         4517\n",
       "pol                4243\n",
       "wind gust          2875\n",
       "d                  2031\n",
       "pm1                1560\n",
       "neph               1537\n",
       "mepaqi             1298\n",
       "psi                 363\n",
       "Name: Specie, dtype: int64"
      ]
     },
     "execution_count": 25,
     "metadata": {},
     "output_type": "execute_result"
    }
   ],
   "source": [
    "# Display an overview of the number of rows each Specie has in the dataframe\n",
    "master_df[\"Specie\"].value_counts()"
   ]
  },
  {
   "cell_type": "code",
   "execution_count": 26,
   "metadata": {},
   "outputs": [],
   "source": [
    "species_to_remove = [\"temperature\", \"humidity\", \"pressure\", \"wind-speed\", \"dew\", \"wind-gust\",\n",
    "                     \"wind speed\", \"wind gust\", \"precipitation\", \"wd\", \"aqi\", \"uvi\", \"pol\", \"pm1\", \"mepaqi\", \"neph\"]\n",
    "\n",
    "short_airdf = master_df[~master_df[\"Specie\"].isin(species_to_remove)].reset_index(drop=True).copy()"
   ]
  },
  {
   "cell_type": "code",
   "execution_count": 27,
   "metadata": {},
   "outputs": [
    {
     "data": {
      "text/html": [
       "<div>\n",
       "<style scoped>\n",
       "    .dataframe tbody tr th:only-of-type {\n",
       "        vertical-align: middle;\n",
       "    }\n",
       "\n",
       "    .dataframe tbody tr th {\n",
       "        vertical-align: top;\n",
       "    }\n",
       "\n",
       "    .dataframe thead th {\n",
       "        text-align: right;\n",
       "    }\n",
       "</style>\n",
       "<table border=\"1\" class=\"dataframe\">\n",
       "  <thead>\n",
       "    <tr style=\"text-align: right;\">\n",
       "      <th></th>\n",
       "      <th>Date</th>\n",
       "      <th>Country</th>\n",
       "      <th>City</th>\n",
       "      <th>Specie</th>\n",
       "      <th>count</th>\n",
       "      <th>min</th>\n",
       "      <th>max</th>\n",
       "      <th>median</th>\n",
       "      <th>variance</th>\n",
       "    </tr>\n",
       "  </thead>\n",
       "  <tbody>\n",
       "    <tr>\n",
       "      <th>0</th>\n",
       "      <td>6/01/2015</td>\n",
       "      <td>KR</td>\n",
       "      <td>Jeonju</td>\n",
       "      <td>co</td>\n",
       "      <td>124</td>\n",
       "      <td>0.1</td>\n",
       "      <td>12.3</td>\n",
       "      <td>4.5</td>\n",
       "      <td>55.74</td>\n",
       "    </tr>\n",
       "    <tr>\n",
       "      <th>1</th>\n",
       "      <td>22/01/2015</td>\n",
       "      <td>KR</td>\n",
       "      <td>Jeonju</td>\n",
       "      <td>co</td>\n",
       "      <td>116</td>\n",
       "      <td>4.5</td>\n",
       "      <td>10.0</td>\n",
       "      <td>6.7</td>\n",
       "      <td>16.09</td>\n",
       "    </tr>\n",
       "    <tr>\n",
       "      <th>2</th>\n",
       "      <td>30/03/2015</td>\n",
       "      <td>KR</td>\n",
       "      <td>Jeonju</td>\n",
       "      <td>co</td>\n",
       "      <td>118</td>\n",
       "      <td>1.2</td>\n",
       "      <td>11.2</td>\n",
       "      <td>5.6</td>\n",
       "      <td>35.98</td>\n",
       "    </tr>\n",
       "    <tr>\n",
       "      <th>3</th>\n",
       "      <td>27/05/2015</td>\n",
       "      <td>KR</td>\n",
       "      <td>Jeonju</td>\n",
       "      <td>co</td>\n",
       "      <td>93</td>\n",
       "      <td>2.3</td>\n",
       "      <td>5.6</td>\n",
       "      <td>3.4</td>\n",
       "      <td>6.54</td>\n",
       "    </tr>\n",
       "    <tr>\n",
       "      <th>4</th>\n",
       "      <td>3/02/2015</td>\n",
       "      <td>KR</td>\n",
       "      <td>Jeonju</td>\n",
       "      <td>co</td>\n",
       "      <td>133</td>\n",
       "      <td>4.5</td>\n",
       "      <td>13.4</td>\n",
       "      <td>7.8</td>\n",
       "      <td>39.24</td>\n",
       "    </tr>\n",
       "  </tbody>\n",
       "</table>\n",
       "</div>"
      ],
      "text/plain": [
       "         Date Country    City Specie  count  min   max  median  variance\n",
       "0   6/01/2015      KR  Jeonju     co    124  0.1  12.3     4.5     55.74\n",
       "1  22/01/2015      KR  Jeonju     co    116  4.5  10.0     6.7     16.09\n",
       "2  30/03/2015      KR  Jeonju     co    118  1.2  11.2     5.6     35.98\n",
       "3  27/05/2015      KR  Jeonju     co     93  2.3   5.6     3.4      6.54\n",
       "4   3/02/2015      KR  Jeonju     co    133  4.5  13.4     7.8     39.24"
      ]
     },
     "execution_count": 27,
     "metadata": {},
     "output_type": "execute_result"
    }
   ],
   "source": [
    "short_airdf.head()"
   ]
  },
  {
   "cell_type": "code",
   "execution_count": null,
   "metadata": {},
   "outputs": [],
   "source": [
    "# Overview of the remaining air pollutant species in focus\n",
    "short_airdf[\"Specie\"].value_counts()"
   ]
  },
  {
   "cell_type": "code",
   "execution_count": null,
   "metadata": {},
   "outputs": [],
   "source": [
    "short_airdf.info()"
   ]
  },
  {
   "cell_type": "code",
   "execution_count": null,
   "metadata": {},
   "outputs": [],
   "source": [
    "short_airdf[\"Date\"] = pd.to_datetime(short_airdf[\"Date\"], format=\"%d/%m/%Y\")"
   ]
  },
  {
   "cell_type": "code",
   "execution_count": null,
   "metadata": {},
   "outputs": [],
   "source": [
    "# Double check the Date data type\n",
    "short_airdf.info()"
   ]
  },
  {
   "cell_type": "code",
   "execution_count": null,
   "metadata": {},
   "outputs": [],
   "source": [
    "# Find the earliest date the air quality dataset covers:\n",
    "short_airdf[\"Date\"].min()"
   ]
  },
  {
   "cell_type": "code",
   "execution_count": null,
   "metadata": {},
   "outputs": [],
   "source": [
    "# Find the latest date the air quality dataset covers:\n",
    "short_airdf[\"Date\"].max()"
   ]
  },
  {
   "cell_type": "code",
   "execution_count": null,
   "metadata": {},
   "outputs": [],
   "source": [
    "# Because we only focus on air data from 2019 to 2020H1, we'll remove the few data points on 2018-12-31 and the first days of July 2020.\n",
    "clean_airdf = short_airdf[(short_airdf[\"Date\"] >= pd.to_datetime(\"2019-01-01\")) & (short_airdf[\"Date\"] <= pd.to_datetime(\"2020-07-01\"))].copy()\n",
    "clean_airdf.head()"
   ]
  },
  {
   "cell_type": "code",
   "execution_count": null,
   "metadata": {},
   "outputs": [],
   "source": [
    "# Set the starting date for the air quality analysis\n",
    "starting_date = clean_airdf[\"Date\"].min()\n",
    "starting_date"
   ]
  },
  {
   "cell_type": "code",
   "execution_count": null,
   "metadata": {},
   "outputs": [],
   "source": [
    "# Set the cutoff date for the air quality analysis\n",
    "end_date = clean_airdf[\"Date\"].max()\n",
    "end_date"
   ]
  },
  {
   "cell_type": "code",
   "execution_count": null,
   "metadata": {},
   "outputs": [],
   "source": [
    "# Display an overview of the Country column\n",
    "clean_airdf[\"Country\"].unique()"
   ]
  },
  {
   "cell_type": "code",
   "execution_count": null,
   "metadata": {},
   "outputs": [],
   "source": [
    "clean_airdf[\"Country\"].nunique()"
   ]
  },
  {
   "cell_type": "code",
   "execution_count": null,
   "metadata": {},
   "outputs": [],
   "source": [
    "# Display an overview of the City column\n",
    "clean_airdf[\"City\"].unique()"
   ]
  },
  {
   "cell_type": "code",
   "execution_count": null,
   "metadata": {},
   "outputs": [],
   "source": [
    "clean_airdf[\"City\"].nunique()"
   ]
  },
  {
   "cell_type": "code",
   "execution_count": null,
   "metadata": {},
   "outputs": [],
   "source": [
    "clean_airdf.loc[clean_airdf[\"Country\"] == \"AU\", \"City\"].value_counts()"
   ]
  },
  {
   "cell_type": "code",
   "execution_count": null,
   "metadata": {},
   "outputs": [],
   "source": []
  }
 ],
 "metadata": {
  "kernelspec": {
   "display_name": "PythonData",
   "language": "python",
   "name": "pythondata"
  },
  "language_info": {
   "codemirror_mode": {
    "name": "ipython",
    "version": 3
   },
   "file_extension": ".py",
   "mimetype": "text/x-python",
   "name": "python",
   "nbconvert_exporter": "python",
   "pygments_lexer": "ipython3",
   "version": "3.6.10"
  }
 },
 "nbformat": 4,
 "nbformat_minor": 4
}
