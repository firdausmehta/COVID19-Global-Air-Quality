{
 "cells": [
  {
   "cell_type": "markdown",
   "metadata": {},
   "source": [
    "# Data Exploration and Cleanup"
   ]
  },
  {
   "cell_type": "code",
   "execution_count": 60,
   "metadata": {},
   "outputs": [],
   "source": [
    "# Dependencies and Setup\n",
    "import matplotlib.pyplot as plt\n",
    "import pandas as pd\n",
    "import numpy as np\n",
    "import requests\n",
    "import json\n",
    "import seaborn as sns\n",
    "import os\n",
    "import datetime\n",
    "from pprint import pprint\n",
    "import plotly.express as px\n"
   ]
  },
  {
   "cell_type": "code",
   "execution_count": 61,
   "metadata": {},
   "outputs": [],
   "source": [
    "parent_folder = 'historical_data'\n",
    "csv_list = [f for f in os.listdir(parent_folder) if '.csv' in f]\n",
    "df_list = []\n",
    "for csv in csv_list:\n",
    "    df = pd.read_csv(os.path.join(parent_folder, csv))\n",
    "    df_list.append(df)\n",
    "master_df = pd.concat(df_list, ignore_index=True)"
   ]
  },
  {
   "cell_type": "code",
   "execution_count": 62,
   "metadata": {},
   "outputs": [
    {
     "data": {
      "text/html": [
       "<div>\n",
       "<style scoped>\n",
       "    .dataframe tbody tr th:only-of-type {\n",
       "        vertical-align: middle;\n",
       "    }\n",
       "\n",
       "    .dataframe tbody tr th {\n",
       "        vertical-align: top;\n",
       "    }\n",
       "\n",
       "    .dataframe thead th {\n",
       "        text-align: right;\n",
       "    }\n",
       "</style>\n",
       "<table border=\"1\" class=\"dataframe\">\n",
       "  <thead>\n",
       "    <tr style=\"text-align: right;\">\n",
       "      <th></th>\n",
       "      <th>Date</th>\n",
       "      <th>Country</th>\n",
       "      <th>City</th>\n",
       "      <th>Specie</th>\n",
       "      <th>count</th>\n",
       "      <th>min</th>\n",
       "      <th>max</th>\n",
       "      <th>median</th>\n",
       "      <th>variance</th>\n",
       "    </tr>\n",
       "  </thead>\n",
       "  <tbody>\n",
       "    <tr>\n",
       "      <th>0</th>\n",
       "      <td>6/01/2015</td>\n",
       "      <td>KR</td>\n",
       "      <td>Jeonju</td>\n",
       "      <td>co</td>\n",
       "      <td>124</td>\n",
       "      <td>0.1</td>\n",
       "      <td>12.3</td>\n",
       "      <td>4.5</td>\n",
       "      <td>55.74</td>\n",
       "    </tr>\n",
       "    <tr>\n",
       "      <th>1</th>\n",
       "      <td>22/01/2015</td>\n",
       "      <td>KR</td>\n",
       "      <td>Jeonju</td>\n",
       "      <td>co</td>\n",
       "      <td>116</td>\n",
       "      <td>4.5</td>\n",
       "      <td>10.0</td>\n",
       "      <td>6.7</td>\n",
       "      <td>16.09</td>\n",
       "    </tr>\n",
       "    <tr>\n",
       "      <th>2</th>\n",
       "      <td>30/03/2015</td>\n",
       "      <td>KR</td>\n",
       "      <td>Jeonju</td>\n",
       "      <td>co</td>\n",
       "      <td>118</td>\n",
       "      <td>1.2</td>\n",
       "      <td>11.2</td>\n",
       "      <td>5.6</td>\n",
       "      <td>35.98</td>\n",
       "    </tr>\n",
       "    <tr>\n",
       "      <th>3</th>\n",
       "      <td>27/05/2015</td>\n",
       "      <td>KR</td>\n",
       "      <td>Jeonju</td>\n",
       "      <td>co</td>\n",
       "      <td>93</td>\n",
       "      <td>2.3</td>\n",
       "      <td>5.6</td>\n",
       "      <td>3.4</td>\n",
       "      <td>6.54</td>\n",
       "    </tr>\n",
       "    <tr>\n",
       "      <th>4</th>\n",
       "      <td>3/02/2015</td>\n",
       "      <td>KR</td>\n",
       "      <td>Jeonju</td>\n",
       "      <td>co</td>\n",
       "      <td>133</td>\n",
       "      <td>4.5</td>\n",
       "      <td>13.4</td>\n",
       "      <td>7.8</td>\n",
       "      <td>39.24</td>\n",
       "    </tr>\n",
       "  </tbody>\n",
       "</table>\n",
       "</div>"
      ],
      "text/plain": [
       "         Date Country    City Specie  count  min   max  median  variance\n",
       "0   6/01/2015      KR  Jeonju     co    124  0.1  12.3     4.5     55.74\n",
       "1  22/01/2015      KR  Jeonju     co    116  4.5  10.0     6.7     16.09\n",
       "2  30/03/2015      KR  Jeonju     co    118  1.2  11.2     5.6     35.98\n",
       "3  27/05/2015      KR  Jeonju     co     93  2.3   5.6     3.4      6.54\n",
       "4   3/02/2015      KR  Jeonju     co    133  4.5  13.4     7.8     39.24"
      ]
     },
     "execution_count": 62,
     "metadata": {},
     "output_type": "execute_result"
    }
   ],
   "source": [
    "master_df.head()"
   ]
  },
  {
   "cell_type": "code",
   "execution_count": 63,
   "metadata": {},
   "outputs": [
    {
     "data": {
      "text/plain": [
       "array(['co', 'pm10', 'o3', 'so2', 'no2', 'pm25', 'psi', 'uvi', 'neph',\n",
       "       'aqi', 'mepaqi', 'pol', 'temperature', 'humidity', 'pressure',\n",
       "       'wd', 'wind-speed', 'd', 'pm1', 'wind-gust', 'precipitation',\n",
       "       'dew', 'wind speed', 'wind gust'], dtype=object)"
      ]
     },
     "execution_count": 63,
     "metadata": {},
     "output_type": "execute_result"
    }
   ],
   "source": [
    "# Display an overview of the Specie column\n",
    "master_df[\"Specie\"].unique()"
   ]
  },
  {
   "cell_type": "code",
   "execution_count": 64,
   "metadata": {},
   "outputs": [
    {
     "data": {
      "text/plain": [
       "no2              565392\n",
       "pm25             552899\n",
       "pm10             547363\n",
       "o3               541019\n",
       "so2              469871\n",
       "co               429370\n",
       "temperature      338991\n",
       "humidity         338874\n",
       "pressure         336973\n",
       "wind-speed       327923\n",
       "dew              230768\n",
       "wind-gust        214730\n",
       "wd                30465\n",
       "precipitation     30222\n",
       "aqi               19417\n",
       "uvi               14001\n",
       "wind speed         4517\n",
       "pol                4243\n",
       "wind gust          2875\n",
       "d                  2031\n",
       "pm1                1560\n",
       "neph               1537\n",
       "mepaqi             1298\n",
       "psi                 363\n",
       "Name: Specie, dtype: int64"
      ]
     },
     "execution_count": 64,
     "metadata": {},
     "output_type": "execute_result"
    }
   ],
   "source": [
    "# Display an overview of the number of rows each Specie has in the dataframe\n",
    "master_df[\"Specie\"].value_counts()"
   ]
  },
  {
   "cell_type": "code",
   "execution_count": 65,
   "metadata": {},
   "outputs": [],
   "source": [
    "species_to_remove = [\"temperature\", \"humidity\", \"pressure\", \"wind-speed\", \"dew\", \"wind-gust\",\n",
    "                     \"wind speed\", \"wind gust\", \"precipitation\", \"wd\", \"aqi\", \"uvi\", \"pol\", \"pm1\", \"mepaqi\", \"neph\"]\n",
    "\n",
    "short_airdf = master_df[~master_df[\"Specie\"].isin(species_to_remove)].reset_index(drop=True).copy()"
   ]
  },
  {
   "cell_type": "code",
   "execution_count": 66,
   "metadata": {},
   "outputs": [
    {
     "data": {
      "text/html": [
       "<div>\n",
       "<style scoped>\n",
       "    .dataframe tbody tr th:only-of-type {\n",
       "        vertical-align: middle;\n",
       "    }\n",
       "\n",
       "    .dataframe tbody tr th {\n",
       "        vertical-align: top;\n",
       "    }\n",
       "\n",
       "    .dataframe thead th {\n",
       "        text-align: right;\n",
       "    }\n",
       "</style>\n",
       "<table border=\"1\" class=\"dataframe\">\n",
       "  <thead>\n",
       "    <tr style=\"text-align: right;\">\n",
       "      <th></th>\n",
       "      <th>Date</th>\n",
       "      <th>Country</th>\n",
       "      <th>City</th>\n",
       "      <th>Specie</th>\n",
       "      <th>count</th>\n",
       "      <th>min</th>\n",
       "      <th>max</th>\n",
       "      <th>median</th>\n",
       "      <th>variance</th>\n",
       "    </tr>\n",
       "  </thead>\n",
       "  <tbody>\n",
       "    <tr>\n",
       "      <th>0</th>\n",
       "      <td>6/01/2015</td>\n",
       "      <td>KR</td>\n",
       "      <td>Jeonju</td>\n",
       "      <td>co</td>\n",
       "      <td>124</td>\n",
       "      <td>0.1</td>\n",
       "      <td>12.3</td>\n",
       "      <td>4.5</td>\n",
       "      <td>55.74</td>\n",
       "    </tr>\n",
       "    <tr>\n",
       "      <th>1</th>\n",
       "      <td>22/01/2015</td>\n",
       "      <td>KR</td>\n",
       "      <td>Jeonju</td>\n",
       "      <td>co</td>\n",
       "      <td>116</td>\n",
       "      <td>4.5</td>\n",
       "      <td>10.0</td>\n",
       "      <td>6.7</td>\n",
       "      <td>16.09</td>\n",
       "    </tr>\n",
       "    <tr>\n",
       "      <th>2</th>\n",
       "      <td>30/03/2015</td>\n",
       "      <td>KR</td>\n",
       "      <td>Jeonju</td>\n",
       "      <td>co</td>\n",
       "      <td>118</td>\n",
       "      <td>1.2</td>\n",
       "      <td>11.2</td>\n",
       "      <td>5.6</td>\n",
       "      <td>35.98</td>\n",
       "    </tr>\n",
       "    <tr>\n",
       "      <th>3</th>\n",
       "      <td>27/05/2015</td>\n",
       "      <td>KR</td>\n",
       "      <td>Jeonju</td>\n",
       "      <td>co</td>\n",
       "      <td>93</td>\n",
       "      <td>2.3</td>\n",
       "      <td>5.6</td>\n",
       "      <td>3.4</td>\n",
       "      <td>6.54</td>\n",
       "    </tr>\n",
       "    <tr>\n",
       "      <th>4</th>\n",
       "      <td>3/02/2015</td>\n",
       "      <td>KR</td>\n",
       "      <td>Jeonju</td>\n",
       "      <td>co</td>\n",
       "      <td>133</td>\n",
       "      <td>4.5</td>\n",
       "      <td>13.4</td>\n",
       "      <td>7.8</td>\n",
       "      <td>39.24</td>\n",
       "    </tr>\n",
       "  </tbody>\n",
       "</table>\n",
       "</div>"
      ],
      "text/plain": [
       "         Date Country    City Specie  count  min   max  median  variance\n",
       "0   6/01/2015      KR  Jeonju     co    124  0.1  12.3     4.5     55.74\n",
       "1  22/01/2015      KR  Jeonju     co    116  4.5  10.0     6.7     16.09\n",
       "2  30/03/2015      KR  Jeonju     co    118  1.2  11.2     5.6     35.98\n",
       "3  27/05/2015      KR  Jeonju     co     93  2.3   5.6     3.4      6.54\n",
       "4   3/02/2015      KR  Jeonju     co    133  4.5  13.4     7.8     39.24"
      ]
     },
     "execution_count": 66,
     "metadata": {},
     "output_type": "execute_result"
    }
   ],
   "source": [
    "short_airdf.head()"
   ]
  },
  {
   "cell_type": "code",
   "execution_count": 67,
   "metadata": {},
   "outputs": [
    {
     "data": {
      "text/plain": [
       "no2     565392\n",
       "pm25    552899\n",
       "pm10    547363\n",
       "o3      541019\n",
       "so2     469871\n",
       "co      429370\n",
       "d         2031\n",
       "psi        363\n",
       "Name: Specie, dtype: int64"
      ]
     },
     "execution_count": 67,
     "metadata": {},
     "output_type": "execute_result"
    }
   ],
   "source": [
    "# Overview of the remaining air pollutant species in focus\n",
    "short_airdf[\"Specie\"].value_counts()"
   ]
  },
  {
   "cell_type": "code",
   "execution_count": 68,
   "metadata": {},
   "outputs": [
    {
     "name": "stdout",
     "output_type": "stream",
     "text": [
      "<class 'pandas.core.frame.DataFrame'>\n",
      "RangeIndex: 3108308 entries, 0 to 3108307\n",
      "Data columns (total 9 columns):\n",
      " #   Column    Dtype  \n",
      "---  ------    -----  \n",
      " 0   Date      object \n",
      " 1   Country   object \n",
      " 2   City      object \n",
      " 3   Specie    object \n",
      " 4   count     int64  \n",
      " 5   min       float64\n",
      " 6   max       float64\n",
      " 7   median    float64\n",
      " 8   variance  float64\n",
      "dtypes: float64(4), int64(1), object(4)\n",
      "memory usage: 213.4+ MB\n"
     ]
    }
   ],
   "source": [
    "short_airdf.info()"
   ]
  },
  {
   "cell_type": "code",
   "execution_count": 69,
   "metadata": {},
   "outputs": [],
   "source": [
    "short_airdf[\"Date\"] = pd.to_datetime(short_airdf[\"Date\"], format=\"%d/%m/%Y\")"
   ]
  },
  {
   "cell_type": "code",
   "execution_count": 70,
   "metadata": {},
   "outputs": [
    {
     "name": "stdout",
     "output_type": "stream",
     "text": [
      "<class 'pandas.core.frame.DataFrame'>\n",
      "RangeIndex: 3108308 entries, 0 to 3108307\n",
      "Data columns (total 9 columns):\n",
      " #   Column    Dtype         \n",
      "---  ------    -----         \n",
      " 0   Date      datetime64[ns]\n",
      " 1   Country   object        \n",
      " 2   City      object        \n",
      " 3   Specie    object        \n",
      " 4   count     int64         \n",
      " 5   min       float64       \n",
      " 6   max       float64       \n",
      " 7   median    float64       \n",
      " 8   variance  float64       \n",
      "dtypes: datetime64[ns](1), float64(4), int64(1), object(3)\n",
      "memory usage: 213.4+ MB\n"
     ]
    }
   ],
   "source": [
    "# Double check the Date data type\n",
    "short_airdf.info()"
   ]
  },
  {
   "cell_type": "code",
   "execution_count": 71,
   "metadata": {},
   "outputs": [
    {
     "data": {
      "text/plain": [
       "Timestamp('2014-12-29 00:00:00')"
      ]
     },
     "execution_count": 71,
     "metadata": {},
     "output_type": "execute_result"
    }
   ],
   "source": [
    "# Find the earliest date the air quality dataset covers:\n",
    "short_airdf[\"Date\"].min()"
   ]
  },
  {
   "cell_type": "code",
   "execution_count": 72,
   "metadata": {},
   "outputs": [
    {
     "data": {
      "text/plain": [
       "Timestamp('2021-06-24 00:00:00')"
      ]
     },
     "execution_count": 72,
     "metadata": {},
     "output_type": "execute_result"
    }
   ],
   "source": [
    "# Find the latest date the air quality dataset covers:\n",
    "short_airdf[\"Date\"].max()"
   ]
  },
  {
   "cell_type": "code",
   "execution_count": 73,
   "metadata": {},
   "outputs": [
    {
     "data": {
      "text/html": [
       "<div>\n",
       "<style scoped>\n",
       "    .dataframe tbody tr th:only-of-type {\n",
       "        vertical-align: middle;\n",
       "    }\n",
       "\n",
       "    .dataframe tbody tr th {\n",
       "        vertical-align: top;\n",
       "    }\n",
       "\n",
       "    .dataframe thead th {\n",
       "        text-align: right;\n",
       "    }\n",
       "</style>\n",
       "<table border=\"1\" class=\"dataframe\">\n",
       "  <thead>\n",
       "    <tr style=\"text-align: right;\">\n",
       "      <th></th>\n",
       "      <th>Date</th>\n",
       "      <th>Country</th>\n",
       "      <th>City</th>\n",
       "      <th>Specie</th>\n",
       "      <th>count</th>\n",
       "      <th>min</th>\n",
       "      <th>max</th>\n",
       "      <th>median</th>\n",
       "      <th>variance</th>\n",
       "    </tr>\n",
       "  </thead>\n",
       "  <tbody>\n",
       "    <tr>\n",
       "      <th>1647731</th>\n",
       "      <td>2019-01-16</td>\n",
       "      <td>AE</td>\n",
       "      <td>Abu Dhabi</td>\n",
       "      <td>pm10</td>\n",
       "      <td>24</td>\n",
       "      <td>86.0</td>\n",
       "      <td>99.0</td>\n",
       "      <td>97.0</td>\n",
       "      <td>179.40</td>\n",
       "    </tr>\n",
       "    <tr>\n",
       "      <th>1647732</th>\n",
       "      <td>2019-01-22</td>\n",
       "      <td>AE</td>\n",
       "      <td>Abu Dhabi</td>\n",
       "      <td>pm10</td>\n",
       "      <td>24</td>\n",
       "      <td>51.0</td>\n",
       "      <td>57.0</td>\n",
       "      <td>55.0</td>\n",
       "      <td>23.75</td>\n",
       "    </tr>\n",
       "    <tr>\n",
       "      <th>1647733</th>\n",
       "      <td>2019-01-26</td>\n",
       "      <td>AE</td>\n",
       "      <td>Abu Dhabi</td>\n",
       "      <td>pm10</td>\n",
       "      <td>24</td>\n",
       "      <td>136.0</td>\n",
       "      <td>173.0</td>\n",
       "      <td>160.0</td>\n",
       "      <td>941.96</td>\n",
       "    </tr>\n",
       "    <tr>\n",
       "      <th>1647734</th>\n",
       "      <td>2019-01-07</td>\n",
       "      <td>AE</td>\n",
       "      <td>Abu Dhabi</td>\n",
       "      <td>pm10</td>\n",
       "      <td>24</td>\n",
       "      <td>60.0</td>\n",
       "      <td>91.0</td>\n",
       "      <td>72.0</td>\n",
       "      <td>1006.88</td>\n",
       "    </tr>\n",
       "    <tr>\n",
       "      <th>1647735</th>\n",
       "      <td>2019-01-10</td>\n",
       "      <td>AE</td>\n",
       "      <td>Abu Dhabi</td>\n",
       "      <td>pm10</td>\n",
       "      <td>24</td>\n",
       "      <td>82.0</td>\n",
       "      <td>93.0</td>\n",
       "      <td>87.0</td>\n",
       "      <td>57.97</td>\n",
       "    </tr>\n",
       "  </tbody>\n",
       "</table>\n",
       "</div>"
      ],
      "text/plain": [
       "              Date Country       City Specie  count    min    max  median  \\\n",
       "1647731 2019-01-16      AE  Abu Dhabi   pm10     24   86.0   99.0    97.0   \n",
       "1647732 2019-01-22      AE  Abu Dhabi   pm10     24   51.0   57.0    55.0   \n",
       "1647733 2019-01-26      AE  Abu Dhabi   pm10     24  136.0  173.0   160.0   \n",
       "1647734 2019-01-07      AE  Abu Dhabi   pm10     24   60.0   91.0    72.0   \n",
       "1647735 2019-01-10      AE  Abu Dhabi   pm10     24   82.0   93.0    87.0   \n",
       "\n",
       "         variance  \n",
       "1647731    179.40  \n",
       "1647732     23.75  \n",
       "1647733    941.96  \n",
       "1647734   1006.88  \n",
       "1647735     57.97  "
      ]
     },
     "execution_count": 73,
     "metadata": {},
     "output_type": "execute_result"
    }
   ],
   "source": [
    "# Because we only focus on air data from 2019 to 2020H1, we'll remove the few data points on 2018-12-31 and the first days of July 2020.\n",
    "clean_airdf = short_airdf[(short_airdf[\"Date\"] >= pd.to_datetime(\"2019-01-01\")) & (short_airdf[\"Date\"] <= pd.to_datetime(\"2020-07-01\"))].copy()\n",
    "clean_airdf.head()"
   ]
  },
  {
   "cell_type": "code",
   "execution_count": 74,
   "metadata": {},
   "outputs": [
    {
     "data": {
      "text/plain": [
       "Timestamp('2019-01-01 00:00:00')"
      ]
     },
     "execution_count": 74,
     "metadata": {},
     "output_type": "execute_result"
    }
   ],
   "source": [
    "# Set the starting date for the air quality analysis\n",
    "starting_date = clean_airdf[\"Date\"].min()\n",
    "starting_date"
   ]
  },
  {
   "cell_type": "code",
   "execution_count": 75,
   "metadata": {},
   "outputs": [
    {
     "data": {
      "text/plain": [
       "Timestamp('2020-01-05 00:00:00')"
      ]
     },
     "execution_count": 75,
     "metadata": {},
     "output_type": "execute_result"
    }
   ],
   "source": [
    "# Set the cutoff date for the air quality analysis\n",
    "end_date = clean_airdf[\"Date\"].max()\n",
    "end_date"
   ]
  },
  {
   "cell_type": "code",
   "execution_count": 76,
   "metadata": {},
   "outputs": [
    {
     "data": {
      "text/plain": [
       "array(['AE', 'CZ', 'SG', 'AT', 'BE', 'KR', 'MN', 'NO', 'NP', 'PE', 'BA',\n",
       "       'BR', 'IL', 'IN', 'IR', 'NZ', 'UA', 'US', 'FR', 'KW', 'RE', 'TR',\n",
       "       'XK', 'UZ', 'FI', 'JP', 'KZ', 'RO', 'RU', 'SK', 'ES', 'HK', 'HR',\n",
       "       'TH', 'LK', 'AR', 'CA', 'CH', 'CL', 'ET', 'KG', 'CW', 'DE', 'MX',\n",
       "       'SA', 'UG', 'BD', 'HU', 'IS', 'PH', 'ID', 'MO', 'SE', 'SV', 'VN',\n",
       "       'AU', 'BH', 'GB', 'IE', 'LA', 'LT', 'PR', 'PT', 'TW', 'CN', 'PL',\n",
       "       'BG', 'CY', 'IQ', 'MK', 'BO', 'DK', 'EC', 'ZA', 'CO', 'EE', 'IT',\n",
       "       'JO', 'NL', 'RS', 'PK', 'TJ', 'MM', 'DZ', 'TM', 'AF', 'GR', 'ML',\n",
       "       'GE', 'GT', 'CR'], dtype=object)"
      ]
     },
     "execution_count": 76,
     "metadata": {},
     "output_type": "execute_result"
    }
   ],
   "source": [
    "# Display an overview of the Country column\n",
    "clean_airdf[\"Country\"].unique()"
   ]
  },
  {
   "cell_type": "code",
   "execution_count": 77,
   "metadata": {},
   "outputs": [
    {
     "data": {
      "text/plain": [
       "91"
      ]
     },
     "execution_count": 77,
     "metadata": {},
     "output_type": "execute_result"
    }
   ],
   "source": [
    "clean_airdf[\"Country\"].nunique()"
   ]
  },
  {
   "cell_type": "code",
   "execution_count": 78,
   "metadata": {},
   "outputs": [
    {
     "data": {
      "text/plain": [
       "array(['Abu Dhabi', 'Dubai', 'Prague', 'Ostrava', 'Brno', 'Pilsen',\n",
       "       'Olomouc', 'Singapore', 'Salzburg', 'Linz', 'Innsbruck', 'Vienna',\n",
       "       'Graz', 'Liège', 'Brussels', 'Charleroi', 'Gent', 'Namur',\n",
       "       'Antwerpen', 'Jeonju', 'Seoul', 'Busan', 'Sejong', 'Ulsan',\n",
       "       'Yeosu', 'Gwangju', 'Seongnam-si', 'Daejeon', 'Pohang', 'Changwon',\n",
       "       'Suwon', 'Cheongju-si', 'Chuncheon', 'Daegu', 'Jeju City',\n",
       "       'Incheon', 'Suncheon', 'Mokpo', 'Andong', 'Ulan Bator',\n",
       "       'Trondheim', 'Oslo', 'Stavanger', 'Bergen', 'Kathmandu', 'Pokhara',\n",
       "       'Lima', 'Sarajevo', 'Zenica', 'Tuzla', 'São José dos Campos',\n",
       "       'São Paulo', 'Tel Aviv', 'Haifa', 'Jerusalem', 'Ashdod', 'Netanya',\n",
       "       'Ashkelon', 'Petaẖ Tiqwa', 'New Delhi', 'Hyderabad', 'Delhi',\n",
       "       'Chandigarh', 'Bhopal', 'Lucknow', 'Ghāziābād', 'Hāpur',\n",
       "       'Gandhinagar', 'Chennai', 'Nashik', 'Visakhapatnam', 'Mumbai',\n",
       "       'Jaipur', 'Patna', 'Muzaffarnagar', 'Thiruvananthapuram',\n",
       "       'Bengaluru', 'Kolkata', 'Isfahan', 'Arāk', 'Karaj', 'Qom',\n",
       "       'Orūmīyeh', 'Yazd', 'Īlām', 'Kerman', 'Khorramshahr', 'Tabriz',\n",
       "       'Sanandaj', 'Kermanshah', 'Khorramabad', 'Shiraz', 'Zanjān',\n",
       "       'Mashhad', 'Tehran', 'Auckland', 'Christchurch', 'Wellington',\n",
       "       'Odessa', 'Ternopil', 'Kyiv', 'Kamianske', 'Dnipro', 'Zaporizhia',\n",
       "       'Kryvyi Rih', 'Ivano-Frankivsk', 'Oklahoma City', 'Raleigh',\n",
       "       'Memphis', 'Jackson', 'Boston', 'Richmond', 'Portland', 'Boise',\n",
       "       'Austin', 'Honolulu', 'Fresno', 'Milwaukee', 'Columbia',\n",
       "       'Hartford', 'Washington D.C.', 'Chicago', 'Houston',\n",
       "       'Indianapolis', 'Atlanta', 'Charlotte', 'Sacramento', 'Oakland',\n",
       "       'Providence', 'Staten Island', 'Brooklyn', 'Springfield',\n",
       "       'The Bronx', 'San Jose', 'Los Angeles', 'Detroit', 'Little Rock',\n",
       "       'Baltimore', 'Phoenix', 'Omaha', 'El Paso', 'Dallas', 'Seattle',\n",
       "       'Manhattan', 'Miami', 'Jacksonville', 'Las Vegas', 'San Antonio',\n",
       "       'Philadelphia', 'San Diego', 'Columbus', 'Saint Paul', 'Denver',\n",
       "       'Salt Lake City', 'Albuquerque', 'San Francisco', 'Salem',\n",
       "       'Madison', 'Nashville', 'Tucson', 'Queens', 'Tallahassee',\n",
       "       'Fort Worth', 'Tours', 'Marseille', 'Nîmes', 'Besançon', 'Nantes',\n",
       "       'Rennes', 'Toulouse', 'Nancy', 'Clermont-Ferrand', 'Paris',\n",
       "       'Lille', 'Orléans', 'Montpellier', 'Lyon', 'Amiens', 'Rouen',\n",
       "       'Grenoble', 'Toulon', 'Limoges', 'Perpignan', 'Bordeaux', 'Nice',\n",
       "       'Saint-Étienne', 'Metz', 'Strasbourg', 'Ḩawallī', 'Saint-Denis',\n",
       "       'İzmit', 'Bursa', 'Ankara', 'Adana', 'Kayseri', 'Kütahya',\n",
       "       'Balıkesir', 'Adapazarı', 'Trabzon', 'Antakya', 'Samsun', 'İzmir',\n",
       "       'Konya', 'Sivas', 'Istanbul', 'Denizli', 'Erzurum', 'Pristina',\n",
       "       'Tashkent', 'Vantaa', 'Turku', 'Oulu', 'Helsinki', 'Tampere',\n",
       "       'Fukuoka', 'Kanazawa', 'Kumamoto', 'Akita', 'Kochi', 'Gifu-shi',\n",
       "       'Kyoto', 'Hiroshima', 'Shizuoka', 'Chiba', 'Sapporo', 'Yokohama',\n",
       "       'Tokyo', 'Saitama', 'Naha', 'Nagasaki', 'Toyama', 'Niigata',\n",
       "       'Nara-shi', 'Okayama', 'Sendai', 'Osaka', 'Miyazaki', 'Matsuyama',\n",
       "       'Wakayama', 'Takamatsu', 'Nagoya', 'Ōita', 'Kobe', 'Nagano',\n",
       "       'Utsunomiya', 'Kagoshima', 'Nur-Sultan', 'Ploieşti', 'Craiova',\n",
       "       'Bacău', 'Râmnicu Vâlcea', 'Sibiu', 'Timişoara', 'Piteşti', 'Arad',\n",
       "       'Cluj-Napoca', 'Bucharest', 'Baia Mare', 'Oradea', 'Galaţi',\n",
       "       'Braşov', 'Iaşi', 'Constanţa', 'Brăila', 'Moscow', 'Košice',\n",
       "       'Bratislava', 'Las Palmas de Gran Canaria', 'Salamanca',\n",
       "       'Barcelona', 'Donostia / San Sebastián', 'Gasteiz / Vitoria',\n",
       "       'Córdoba', 'Santander', 'Palma', 'Málaga', 'Sevilla', 'Bilbao',\n",
       "       'Pamplona', 'Castelló de la Plana', 'Huelva', 'Granada', 'Madrid',\n",
       "       'Valencia', 'Burgos', 'Murcia', 'Santa Cruz de Tenerife', 'Oviedo',\n",
       "       'Hong Kong', 'Zagreb', 'Rijeka', 'Split', 'Chon Buri',\n",
       "       'Chiang Mai', 'Rayong', 'Lampang', 'Bangkok', 'Samut Prakan',\n",
       "       'Colombo', 'Buenos Aires', 'Hamilton', 'Calgary', 'Winnipeg',\n",
       "       'Halifax', 'Kitchener', 'Edmonton', 'Surrey', 'Mississauga',\n",
       "       'Québec', 'Vancouver', 'Victoria', 'Montréal', 'Toronto', 'Ottawa',\n",
       "       'London', 'Zürich', 'Rancagua', 'Osorno', 'Los Ángeles', 'Chillán',\n",
       "       'Calama', 'Puerto Montt', 'Valparaíso', 'Quilpué', 'Santiago',\n",
       "       'Talca', 'Concepción', 'Temuco', 'Addis Ababa', 'Bishkek',\n",
       "       'Willemstad', 'Stuttgart', 'Münster', 'Köln', 'Kassel',\n",
       "       'Karlsruhe', 'Mainz', 'Dresden', 'Munich', 'Berlin', 'Düsseldorf',\n",
       "       'Freiburg', 'Wiesbaden', 'Hannover', 'Augsburg', 'Darmstadt',\n",
       "       'Potsdam', 'Hamburg', 'Guadalajara', 'Cuernavaca', 'Puebla',\n",
       "       'Mexico City', 'Morelia', 'Mérida', 'San Luis Potosí', 'Chihuahua',\n",
       "       'Monterrey', 'Pachuca de Soto', 'Tepic', 'Toluca',\n",
       "       'Aguascalientes', 'Oaxaca', 'Riyadh', 'Jeddah', 'Abha', 'Dammam',\n",
       "       \"Ha'il\", 'Buraydah', 'Mecca', 'Kampala', 'Dhaka', 'Debrecen',\n",
       "       'Győr', 'Szeged', 'Pécs', 'Kecskemét', 'Miskolc', 'Budapest',\n",
       "       'Reykjavík', 'Baguio', 'Manila', 'Butuan', 'Zamboanga', 'Jakarta',\n",
       "       'Macau', 'Stockholm', 'Göteborg', 'Malmö', 'Uppsala',\n",
       "       'San Salvador', 'Ho Chi Minh City', 'Hanoi', 'Hạ Long', 'Sydney',\n",
       "       'Newcastle', 'Launceston', 'Hobart', 'Darwin', 'Melbourne',\n",
       "       'Adelaide', 'Brisbane', 'Perth', 'Wollongong', 'Manama',\n",
       "       'Edinburgh', 'Norwich', 'Liverpool', 'Belfast', 'Coventry',\n",
       "       'Leeds', 'Cardiff', 'Bristol', 'Birmingham', 'Sheffield',\n",
       "       'Newport', 'Leicester', 'Manchester', 'Reading', 'Plymouth',\n",
       "       'Glasgow', 'Preston', 'Swansea', 'Southend-on-Sea', 'Dublin',\n",
       "       'Vientiane', 'Kaunas', 'San Juan', 'Lisbon', 'Funchal',\n",
       "       'Taitung City', 'Taichung', 'Taoyuan City', 'Taipei', 'Hsinchu',\n",
       "       'Keelung', 'Tainan', 'Douliu', 'Kaohsiung', 'Beijing', 'Jieyang',\n",
       "       'Kunming', 'Hangzhou', 'Chongqing', 'Qingdao', 'Haikou', 'Ürümqi',\n",
       "       'Qiqihar', 'Guiyang', 'Shenzhen', 'Yunfu', 'Xuchang', 'Yinchuan',\n",
       "       'Shenyang', 'Lhasa', 'Shanghai', 'Changchun', 'Foshan', 'Nanning',\n",
       "       'Fushun', 'Hefei', 'Chengdu', 'Hohhot', 'Qinhuangdao',\n",
       "       'Shijiazhuang', 'Shantou', 'Zhengzhou', 'Nanjing', 'Xining',\n",
       "       'Xi’an', 'Zhuzhou', 'Wuhan', 'Tianjin', 'Changzhou', 'Nanchang',\n",
       "       'Shiyan', 'Xinxiang', 'Suzhou', 'Harbin', 'Lanzhou', 'Jinan',\n",
       "       'Changsha', 'Hegang', 'Anyang', 'Wuxi', 'Taiyuan', 'Guangzhou',\n",
       "       'Fuzhou', 'Ningbo', 'Xiamen', 'Dongguan', 'Łódź', 'Tarnów',\n",
       "       'Gdańsk', 'Katowice', 'Poznań', 'Rybnik', 'Szczecin', 'Kielce',\n",
       "       'Warsaw', 'Bydgoszcz', 'Zabrze', 'Wrocław', 'Płock', 'Kraków',\n",
       "       'Sofia', 'Burgas', 'Plovdiv', 'Nicosia', 'Limassol', 'Baghdad',\n",
       "       'Skopje', 'Cochabamba', 'Copenhagen', 'Quito', 'Middelburg',\n",
       "       'Pretoria', 'East London', 'Johannesburg', 'Cape Town',\n",
       "       'Vereeniging', 'Klerksdorp', 'Richards Bay', 'Port Elizabeth',\n",
       "       'Worcester', 'Bogotá', 'Medellín', 'Tallinn', 'Bologna', 'Livorno',\n",
       "       'Trieste', 'Modena', 'Prato', 'Florence', 'Naples', 'Rome',\n",
       "       'Turin', 'Milan', 'Brescia', 'Parma', 'Amman', 'Irbid', 'Zarqa',\n",
       "       'Utrecht', 'Nijmegen', 'Haarlem', 'Eindhoven', 'Rotterdam',\n",
       "       'Amsterdam', 'Dordrecht', 'Breda', 'Groningen', 'Maastricht',\n",
       "       'The Hague', 'Novi Sad', 'Niš', 'Belgrade', 'Karachi', 'Peshawar',\n",
       "       'Islamabad', 'Lahore', 'Bloemfontein', 'Durban', 'Dushanbe',\n",
       "       'Lviv', 'Valladolid', 'Yangon', 'Haiphong', 'Bandar Abbas',\n",
       "       'Thrissur', 'Shillong', 'Ecatepec de Morelos', 'Biratnagar',\n",
       "       'Algiers', 'Ashgabat', 'Zaragoza', 'Dunedin', 'Dijon', 'Caen',\n",
       "       'Kabul', 'Nakhon Pathom', 'Nagpur', 'Mysore', 'Canberra',\n",
       "       'Thessaloníki', 'Athens', 'Huế', 'Chelyabinsk', 'Nizhniy Novgorod',\n",
       "       'Krasnoyarsk', 'Tomsk', 'Novosibirsk', 'Bamako', 'Tbilisi',\n",
       "       'Guatemala City', 'San José', 'Vitória', 'Eskişehir'], dtype=object)"
      ]
     },
     "execution_count": 78,
     "metadata": {},
     "output_type": "execute_result"
    }
   ],
   "source": [
    "# Display an overview of the City column\n",
    "clean_airdf[\"City\"].unique()"
   ]
  },
  {
   "cell_type": "code",
   "execution_count": 79,
   "metadata": {},
   "outputs": [
    {
     "data": {
      "text/plain": [
       "597"
      ]
     },
     "execution_count": 79,
     "metadata": {},
     "output_type": "execute_result"
    }
   ],
   "source": [
    "clean_airdf[\"City\"].nunique()"
   ]
  },
  {
   "cell_type": "code",
   "execution_count": 80,
   "metadata": {},
   "outputs": [
    {
     "data": {
      "text/plain": [
       "Sydney        2242\n",
       "Brisbane      2220\n",
       "Wollongong    2181\n",
       "Melbourne     2172\n",
       "Newcastle     2117\n",
       "Darwin        2110\n",
       "Adelaide      2099\n",
       "Perth         2085\n",
       "Hobart         752\n",
       "Launceston     752\n",
       "Canberra       170\n",
       "Name: City, dtype: int64"
      ]
     },
     "execution_count": 80,
     "metadata": {},
     "output_type": "execute_result"
    }
   ],
   "source": [
    "clean_airdf.loc[clean_airdf[\"Country\"] == \"AU\", \"City\"].value_counts()"
   ]
  },
  {
   "cell_type": "code",
   "execution_count": null,
   "metadata": {},
   "outputs": [],
   "source": []
  }
 ],
 "metadata": {
  "kernelspec": {
   "display_name": "PythonData",
   "language": "python",
   "name": "pythondata"
  },
  "language_info": {
   "codemirror_mode": {
    "name": "ipython",
    "version": 3
   },
   "file_extension": ".py",
   "mimetype": "text/x-python",
   "name": "python",
   "nbconvert_exporter": "python",
   "pygments_lexer": "ipython3",
   "version": "3.6.10"
  }
 },
 "nbformat": 4,
 "nbformat_minor": 4
}
